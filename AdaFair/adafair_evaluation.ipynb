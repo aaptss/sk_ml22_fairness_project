{
 "cells": [
  {
   "cell_type": "code",
   "execution_count": 17,
   "id": "2174ccb7",
   "metadata": {
    "ExecuteTime": {
     "end_time": "2022-03-22T14:38:23.377756Z",
     "start_time": "2022-03-22T14:38:23.365982Z"
    }
   },
   "outputs": [],
   "source": [
    "import seaborn as sns\n",
    "from sklearn.model_selection import train_test_split\n",
    "from sklearn.tree import DecisionTreeClassifier\n",
    "from sklearn.metrics import accuracy_score, balanced_accuracy_score, confusion_matrix\n",
    "from sklearn.ensemble import AdaBoostClassifier\n",
    "import time\n",
    "import numpy as np\n",
    "import pandas as pd\n",
    "import matplotlib.pyplot as plt\n",
    "from tqdm.notebook import tqdm\n",
    "from AdaFair import AdaFair\n",
    "import sys\n",
    "\n",
    "sys.path.append('../')\n",
    "\n",
    "from loaders.load_adult import load_adult\n",
    "from loaders.load_bank import load_bank\n",
    "from loaders.load_compas_data import load_compas"
   ]
  },
  {
   "cell_type": "markdown",
   "id": "51c0fc1c",
   "metadata": {},
   "source": [
    "## Metrics"
   ]
  },
  {
   "cell_type": "code",
   "execution_count": 3,
   "id": "e5597ba3",
   "metadata": {
    "ExecuteTime": {
     "end_time": "2022-03-22T14:36:31.014537Z",
     "start_time": "2022-03-22T14:36:31.004916Z"
    }
   },
   "outputs": [],
   "source": [
    "def dFNR(y_true, y_pred, X, sa_index, sa_label):\n",
    "    sa_pos = (X[:, sa_index] == sa_label) * (y_true == 1)\n",
    "    sa_neg = (X[:, sa_index] == sa_label) * (y_true == -1)\n",
    "    nonsa_pos = (X[:, sa_index] != sa_label) * (y_true == 1)\n",
    "    nonsa_neg = (X[:, sa_index] != sa_label) * (y_true == -1)\n",
    "    return np.sum(y_pred[sa_pos] != y_true[sa_pos]) / np.sum(sa_pos) - np.sum(y_pred[nonsa_pos] != y_true[nonsa_pos]) / np.sum(nonsa_pos)"
   ]
  },
  {
   "cell_type": "code",
   "execution_count": 4,
   "id": "90cea501",
   "metadata": {
    "ExecuteTime": {
     "end_time": "2022-03-22T14:36:31.327650Z",
     "start_time": "2022-03-22T14:36:31.309415Z"
    }
   },
   "outputs": [],
   "source": [
    "def dFPR(y_true, y_pred, X, sa_index, sa_label):\n",
    "    sa_pos = (X[:, sa_index] == sa_label) * (y_true == 1)\n",
    "    sa_neg = (X[:, sa_index] == sa_label) * (y_true == -1)\n",
    "    nonsa_pos = (X[:, sa_index] != sa_label) * (y_true == 1)\n",
    "    nonsa_neg = (X[:, sa_index] != sa_label) * (y_true == -1)\n",
    "    \n",
    "    return np.sum(y_pred[sa_neg] != y_true[sa_neg]) / np.sum(sa_neg) - np.sum(y_pred[nonsa_neg] != y_true[nonsa_neg]) / np.sum(nonsa_neg)"
   ]
  },
  {
   "cell_type": "code",
   "execution_count": 5,
   "id": "4a535cf9",
   "metadata": {
    "ExecuteTime": {
     "end_time": "2022-03-22T14:36:31.764541Z",
     "start_time": "2022-03-22T14:36:31.750472Z"
    }
   },
   "outputs": [],
   "source": [
    "def TPR(y_true, y_pred, X, sa_index, sa_label, agg):\n",
    "    sa_pos = (X[:, sa_index] == sa_label) * (y_true == 1)\n",
    "    sa_neg = (X[:, sa_index] == sa_label) * (y_true == -1)\n",
    "    nonsa_pos = (X[:, sa_index] != sa_label) * (y_true == 1)\n",
    "    nonsa_neg = (X[:, sa_index] != sa_label) * (y_true == -1)\n",
    "    \n",
    "    if agg == 'prot':\n",
    "        return np.sum(y_pred[nonsa_pos] == y_true[nonsa_pos]) / np.sum(nonsa_pos)\n",
    "    elif agg == 'non-prot':\n",
    "        return np.sum(y_pred[sa_pos] == y_true[sa_pos]) / np.sum(sa_pos)"
   ]
  },
  {
   "cell_type": "code",
   "execution_count": 6,
   "id": "17a8fdb5",
   "metadata": {
    "ExecuteTime": {
     "end_time": "2022-03-22T14:36:32.276433Z",
     "start_time": "2022-03-22T14:36:32.271433Z"
    }
   },
   "outputs": [],
   "source": [
    "def TNR(y_true, y_pred, X, sa_index, sa_label, agg='diff'):\n",
    "    sa_pos = (X[:, sa_index] == sa_label) * (y_true == 1)\n",
    "    sa_neg = (X[:, sa_index] == sa_label) * (y_true == -1)\n",
    "    nonsa_pos = (X[:, sa_index] != sa_label) * (y_true == 1)\n",
    "    nonsa_neg = (X[:, sa_index] != sa_label) * (y_true == -1)\n",
    "    \n",
    "    if agg == 'prot':\n",
    "        return np.sum(y_pred[nonsa_neg] == y_true[nonsa_neg]) / np.sum(nonsa_neg)\n",
    "    elif agg == 'non-prot':\n",
    "        return np.sum(y_pred[sa_neg] == y_true[sa_neg]) / np.sum(sa_neg)"
   ]
  },
  {
   "cell_type": "code",
   "execution_count": 7,
   "id": "7173080f",
   "metadata": {
    "ExecuteTime": {
     "end_time": "2022-03-22T14:36:32.970650Z",
     "start_time": "2022-03-22T14:36:32.961670Z"
    }
   },
   "outputs": [],
   "source": [
    "def model_evaluate(y_true, y_pred, X, sa_index, sa_label):\n",
    "    metrics = {'Accuracy': accuracy_score(y_true, y_pred), 'Bal. Acc.': balanced_accuracy_score(y_true, y_pred),\n",
    "              'Eq.Odds': abs(dFPR(y_true, y_pred, X, sa_index, sa_label)) + abs(dFNR(y_true, y_pred, X, sa_index, sa_label)),\n",
    "              'TPR Prot': TPR(y_true, y_pred, X, sa_index, sa_label, agg='prot'),\n",
    "              'TPR Non-Prot': TPR(y_true, y_pred, X, sa_index, sa_label, agg='non-prot'),\n",
    "              'TNR Prot': TNR(y_true, y_pred, X, sa_index, sa_label, agg='prot'),\n",
    "              'TNR Non-Prot': TNR(y_true, y_pred, X, sa_index, sa_label, agg='non-prot')}\n",
    "    return metrics"
   ]
  },
  {
   "cell_type": "markdown",
   "id": "92a7aabf",
   "metadata": {},
   "source": [
    "# Adult"
   ]
  },
  {
   "cell_type": "code",
   "execution_count": 8,
   "id": "739033f9",
   "metadata": {
    "ExecuteTime": {
     "end_time": "2022-03-22T14:16:32.574543Z",
     "start_time": "2022-03-22T14:16:31.069937Z"
    }
   },
   "outputs": [
    {
     "name": "stdout",
     "output_type": "stream",
     "text": [
      "Counter({\"' Male'\": 30495, \"' Female'\": 14680})\n"
     ]
    }
   ],
   "source": [
    "X, y, sa_index, p_Group, x_control = load_adult(\"sex\")\n",
    "sa_label = 1"
   ]
  },
  {
   "cell_type": "code",
   "execution_count": 9,
   "id": "2a5909fa",
   "metadata": {
    "ExecuteTime": {
     "end_time": "2022-03-22T14:16:33.229800Z",
     "start_time": "2022-03-22T14:16:33.212786Z"
    }
   },
   "outputs": [],
   "source": [
    "nonprot = X[:, sa_index]==sa_label\n",
    "prot = X[:, sa_index]!=sa_label"
   ]
  },
  {
   "cell_type": "markdown",
   "id": "6c6d358f",
   "metadata": {},
   "source": [
    "## Validation"
   ]
  },
  {
   "cell_type": "code",
   "execution_count": 10,
   "id": "f87437d9",
   "metadata": {
    "ExecuteTime": {
     "end_time": "2022-03-22T09:07:51.866601Z",
     "start_time": "2022-03-22T08:44:41.639346Z"
    }
   },
   "outputs": [],
   "source": [
    "names = ['Accuracy', 'Bal. Acc.', 'Eq.Odds', 'TPR Prot', 'TPR Non-Prot', 'TNR Prot', 'TNR Non-Prot']\n",
    "metrics = {'name':[], 'value':[], 'model':[]}\n",
    "\n",
    "for i in range(10):\n",
    "#     X_nonprot_train, X_nonprot_test, y_nonprot_train, y_nonprot_test = train_test_split(X[nonprot], y[nonprot], test_size=0.5, stratify=y[nonprot], shuffle=True)\n",
    "#     X_prot_train, X_prot_test, y_prot_train, y_prot_test = train_test_split(X[prot], y[prot], test_size=0.5, stratify=y[prot], shuffle=True)\n",
    "    \n",
    "#     X_train, X_test = np.concatenate((X_nonprot_train, X_prot_train)), np.concatenate((X_nonprot_test, X_prot_test))\n",
    "#     y_train, y_test = np.concatenate((y_nonprot_train, y_prot_train)), np.concatenate((y_nonprot_test, y_prot_test))\n",
    "    \n",
    "#     idxs_train = np.arange(X_train.shape[0])\n",
    "#     idxs_test = np.arange(X_test.shape[0])\n",
    "#     np.random.shuffle(idxs_train)\n",
    "#     np.random.shuffle(idxs_test)\n",
    "    \n",
    "#     X_train, X_test = X_train[idxs_train], X_test[idxs_test]\n",
    "#     y_train, y_test = y_train[idxs_train], y_test[idxs_test]\n",
    "\n",
    "    X_train, X_test, y_train, y_test = train_test_split(X, y, test_size=0.5, shuffle=True)\n",
    "    \n",
    "    adaboost = AdaBoostClassifier(DecisionTreeClassifier(max_depth=1), n_estimators=200)\n",
    "    adaboost.fit(X_train, y_train)\n",
    "    \n",
    "    y_pred = adaboost.predict(X_test)\n",
    "    \n",
    "    metrics['name'].append(names[0])\n",
    "    metrics['value'].append(accuracy_score(y_test, y_pred))\n",
    "    metrics['model'].append('AdaBoost')\n",
    "    metrics['name'].append(names[1])\n",
    "    metrics['value'].append(balanced_accuracy_score(y_test, y_pred))\n",
    "    metrics['model'].append('AdaBoost')\n",
    "    metrics['name'].append(names[2])\n",
    "    metrics['value'].append(abs(dFPR(y_test, y_pred, X_test, sa_index, sa_label)) + abs(dFNR(y_test, y_pred, X_test, sa_index, sa_label)))\n",
    "    metrics['model'].append('AdaBoost')\n",
    "    metrics['name'].append(names[3])\n",
    "    metrics['value'].append(TPR(y_test, y_pred, X_test, sa_index, sa_label, agg='prot'))\n",
    "    metrics['model'].append('AdaBoost')\n",
    "    metrics['name'].append(names[4])\n",
    "    metrics['value'].append(TPR(y_test, y_pred, X_test, sa_index, sa_label, agg='non-prot'))\n",
    "    metrics['model'].append('AdaBoost')\n",
    "    metrics['name'].append(names[5])\n",
    "    metrics['value'].append(TNR(y_test, y_pred, X_test, sa_index, sa_label, agg='prot'))\n",
    "    metrics['model'].append('AdaBoost')\n",
    "    metrics['name'].append(names[6])\n",
    "    metrics['value'].append(TNR(y_test, y_pred, X_test, sa_index, sa_label, agg='non-prot'))\n",
    "    metrics['model'].append('AdaBoost')\n",
    "    \n",
    "    adafair = AdaFair(sa_index=sa_index, sa_label=sa_label)\n",
    "    adafair.fit(X_train, y_train)\n",
    "    \n",
    "    y_pred = adafair.predict(X_test)\n",
    "    \n",
    "    metrics['name'].append(names[0])\n",
    "    metrics['value'].append(accuracy_score(y_test, y_pred))\n",
    "    metrics['model'].append('AdaFair')\n",
    "    metrics['name'].append(names[1])\n",
    "    metrics['value'].append(balanced_accuracy_score(y_test, y_pred))\n",
    "    metrics['model'].append('AdaFair')\n",
    "    metrics['name'].append(names[2])\n",
    "    metrics['value'].append(abs(dFPR(y_test, y_pred, X_test, sa_index, sa_label)) + abs(dFNR(y_test, y_pred, X_test, sa_index, sa_label)))\n",
    "    metrics['model'].append('AdaFair')\n",
    "    metrics['name'].append(names[3])\n",
    "    metrics['value'].append(TPR(y_test, y_pred, X_test, sa_index, sa_label, agg='prot'))\n",
    "    metrics['model'].append('AdaFair')\n",
    "    metrics['name'].append(names[4])\n",
    "    metrics['value'].append(TPR(y_test, y_pred, X_test, sa_index, sa_label, agg='non-prot'))\n",
    "    metrics['model'].append('AdaFair')\n",
    "    metrics['name'].append(names[5])\n",
    "    metrics['value'].append(TNR(y_test, y_pred, X_test, sa_index, sa_label, agg='prot'))\n",
    "    metrics['model'].append('AdaFair')\n",
    "    metrics['name'].append(names[6])\n",
    "    metrics['value'].append(TNR(y_test, y_pred, X_test, sa_index, sa_label, agg='non-prot'))\n",
    "    metrics['model'].append('AdaFair')"
   ]
  },
  {
   "cell_type": "code",
   "execution_count": 12,
   "id": "cfadd31d",
   "metadata": {
    "ExecuteTime": {
     "end_time": "2022-03-22T09:14:08.547100Z",
     "start_time": "2022-03-22T09:14:08.528121Z"
    }
   },
   "outputs": [],
   "source": [
    "f = open('metrics_adult.txt','w')\n",
    "f.write(str(metrics))\n",
    "f.close()"
   ]
  },
  {
   "cell_type": "markdown",
   "id": "9163d303",
   "metadata": {},
   "source": [
    "# Bank"
   ]
  },
  {
   "cell_type": "code",
   "execution_count": 14,
   "id": "e593686d",
   "metadata": {
    "ExecuteTime": {
     "end_time": "2022-03-22T09:14:47.714512Z",
     "start_time": "2022-03-22T09:14:46.571016Z"
    }
   },
   "outputs": [
    {
     "name": "stdout",
     "output_type": "stream",
     "text": [
      "Counter({'married': 27214, 'single': 12790})\n"
     ]
    }
   ],
   "source": [
    "X, y, sa_index, p_Group, x_control = load_bank()\n",
    "sa_label=1"
   ]
  },
  {
   "cell_type": "code",
   "execution_count": 15,
   "id": "a5a5b358",
   "metadata": {
    "ExecuteTime": {
     "end_time": "2022-03-22T09:14:49.293680Z",
     "start_time": "2022-03-22T09:14:49.286682Z"
    }
   },
   "outputs": [],
   "source": [
    "nonprot = X[:, sa_index]==sa_label\n",
    "prot = X[:, sa_index]!=sa_label"
   ]
  },
  {
   "cell_type": "markdown",
   "id": "bf4a8cbc",
   "metadata": {},
   "source": [
    "## Validation"
   ]
  },
  {
   "cell_type": "code",
   "execution_count": 16,
   "id": "35c7370c",
   "metadata": {
    "ExecuteTime": {
     "end_time": "2022-03-22T09:26:30.059290Z",
     "start_time": "2022-03-22T09:14:52.828217Z"
    }
   },
   "outputs": [],
   "source": [
    "names = ['Accuracy', 'Bal. Acc.', 'Eq.Odds', 'TPR Prot', 'TPR Non-Prot', 'TNR Prot', 'TNR Non-Prot']\n",
    "metrics = {'name':[], 'value':[], 'model':[]}\n",
    "\n",
    "for i in range(10):\n",
    "#     X_nonprot_train, X_nonprot_test, y_nonprot_train, y_nonprot_test = train_test_split(X[nonprot], y[nonprot], test_size=0.5, stratify=y[nonprot], shuffle=True)\n",
    "#     X_prot_train, X_prot_test, y_prot_train, y_prot_test = train_test_split(X[prot], y[prot], test_size=0.5, stratify=y[prot], shuffle=True)\n",
    "    \n",
    "#     X_train, X_test = np.concatenate((X_nonprot_train, X_prot_train)), np.concatenate((X_nonprot_test, X_prot_test))\n",
    "#     y_train, y_test = np.concatenate((y_nonprot_train, y_prot_train)), np.concatenate((y_nonprot_test, y_prot_test))\n",
    "    \n",
    "#     idxs_train = np.arange(X_train.shape[0])\n",
    "#     idxs_test = np.arange(X_test.shape[0])\n",
    "#     np.random.shuffle(idxs_train)\n",
    "#     np.random.shuffle(idxs_test)\n",
    "    \n",
    "#     X_train, X_test = X_train[idxs_train], X_test[idxs_test]\n",
    "#     y_train, y_test = y_train[idxs_train], y_test[idxs_test]\n",
    "\n",
    "    X_train, X_test, y_train, y_test = train_test_split(X, y, test_size=0.5, shuffle=True)\n",
    "    \n",
    "    adaboost = AdaBoostClassifier(DecisionTreeClassifier(max_depth=1), n_estimators=200)\n",
    "    adaboost.fit(X_train, y_train)\n",
    "    \n",
    "    y_pred = adaboost.predict(X_test)\n",
    "    \n",
    "    metrics['name'].append(names[0])\n",
    "    metrics['value'].append(accuracy_score(y_test, y_pred))\n",
    "    metrics['model'].append('AdaBoost')\n",
    "    metrics['name'].append(names[1])\n",
    "    metrics['value'].append(balanced_accuracy_score(y_test, y_pred))\n",
    "    metrics['model'].append('AdaBoost')\n",
    "    metrics['name'].append(names[2])\n",
    "    metrics['value'].append(abs(dFPR(y_test, y_pred, X_test, sa_index, sa_label)) + abs(dFNR(y_test, y_pred, X_test, sa_index, sa_label)))\n",
    "    metrics['model'].append('AdaBoost')\n",
    "    metrics['name'].append(names[3])\n",
    "    metrics['value'].append(TPR(y_test, y_pred, X_test, sa_index, sa_label, agg='prot'))\n",
    "    metrics['model'].append('AdaBoost')\n",
    "    metrics['name'].append(names[4])\n",
    "    metrics['value'].append(TPR(y_test, y_pred, X_test, sa_index, sa_label, agg='non-prot'))\n",
    "    metrics['model'].append('AdaBoost')\n",
    "    metrics['name'].append(names[5])\n",
    "    metrics['value'].append(TNR(y_test, y_pred, X_test, sa_index, sa_label, agg='prot'))\n",
    "    metrics['model'].append('AdaBoost')\n",
    "    metrics['name'].append(names[6])\n",
    "    metrics['value'].append(TNR(y_test, y_pred, X_test, sa_index, sa_label, agg='non-prot'))\n",
    "    metrics['model'].append('AdaBoost')\n",
    "    \n",
    "    adafair = AdaFair(sa_index=sa_index, sa_label=sa_label)\n",
    "    adafair.fit(X_train, y_train)\n",
    "    \n",
    "    y_pred = adafair.predict(X_test)\n",
    "    \n",
    "    metrics['name'].append(names[0])\n",
    "    metrics['value'].append(accuracy_score(y_test, y_pred))\n",
    "    metrics['model'].append('AdaFair')\n",
    "    metrics['name'].append(names[1])\n",
    "    metrics['value'].append(balanced_accuracy_score(y_test, y_pred))\n",
    "    metrics['model'].append('AdaFair')\n",
    "    metrics['name'].append(names[2])\n",
    "    metrics['value'].append(abs(dFPR(y_test, y_pred, X_test, sa_index, sa_label)) + abs(dFNR(y_test, y_pred, X_test, sa_index, sa_label)))\n",
    "    metrics['model'].append('AdaFair')\n",
    "    metrics['name'].append(names[3])\n",
    "    metrics['value'].append(TPR(y_test, y_pred, X_test, sa_index, sa_label, agg='prot'))\n",
    "    metrics['model'].append('AdaFair')\n",
    "    metrics['name'].append(names[4])\n",
    "    metrics['value'].append(TPR(y_test, y_pred, X_test, sa_index, sa_label, agg='non-prot'))\n",
    "    metrics['model'].append('AdaFair')\n",
    "    metrics['name'].append(names[5])\n",
    "    metrics['value'].append(TNR(y_test, y_pred, X_test, sa_index, sa_label, agg='prot'))\n",
    "    metrics['model'].append('AdaFair')\n",
    "    metrics['name'].append(names[6])\n",
    "    metrics['value'].append(TNR(y_test, y_pred, X_test, sa_index, sa_label, agg='non-prot'))\n",
    "    metrics['model'].append('AdaFair')"
   ]
  },
  {
   "cell_type": "code",
   "execution_count": 17,
   "id": "d3f660c0",
   "metadata": {
    "ExecuteTime": {
     "end_time": "2022-03-22T09:27:35.167885Z",
     "start_time": "2022-03-22T09:27:35.154937Z"
    }
   },
   "outputs": [],
   "source": [
    "f = open('metrics_bank.txt','w')\n",
    "f.write(str(metrics))\n",
    "f.close()"
   ]
  },
  {
   "cell_type": "markdown",
   "id": "006a7fda",
   "metadata": {},
   "source": [
    "# Compass"
   ]
  },
  {
   "cell_type": "code",
   "execution_count": 18,
   "id": "b15f215e",
   "metadata": {
    "ExecuteTime": {
     "end_time": "2022-03-22T14:38:25.935494Z",
     "start_time": "2022-03-22T14:38:25.741436Z"
    }
   },
   "outputs": [
    {
     "name": "stdout",
     "output_type": "stream",
     "text": [
      "Counter({'Male': 4247, 'Female': 1031})\n",
      "Features we will be using for classification are: ['age_cat_25 - 45', 'age_cat_Greater than 45', 'age_cat_Less than 25', 'race', 'sex', 'priors_count', 'c_charge_degree', 'target'] \n",
      "\n"
     ]
    }
   ],
   "source": [
    "X, y, sa_index, p_Group, x_control = load_compas(\"sex\")\n",
    "sa_label=1"
   ]
  },
  {
   "cell_type": "code",
   "execution_count": 19,
   "id": "805c1dd3",
   "metadata": {
    "ExecuteTime": {
     "end_time": "2022-03-22T14:38:27.134470Z",
     "start_time": "2022-03-22T14:38:27.129502Z"
    }
   },
   "outputs": [],
   "source": [
    "nonprot = X[:, sa_index]==sa_label\n",
    "prot = X[:, sa_index]!=sa_label"
   ]
  },
  {
   "cell_type": "markdown",
   "id": "21b8ef97",
   "metadata": {},
   "source": [
    "## Validation"
   ]
  },
  {
   "cell_type": "code",
   "execution_count": 23,
   "id": "a1feba47",
   "metadata": {
    "ExecuteTime": {
     "end_time": "2022-03-22T14:39:31.323509Z",
     "start_time": "2022-03-22T14:39:01.568935Z"
    }
   },
   "outputs": [
    {
     "data": {
      "application/vnd.jupyter.widget-view+json": {
       "model_id": "8e4dbe3d870a4b82999720fc465960e0",
       "version_major": 2,
       "version_minor": 0
      },
      "text/plain": [
       "  0%|          | 0/200 [00:00<?, ?it/s]"
      ]
     },
     "metadata": {},
     "output_type": "display_data"
    },
    {
     "data": {
      "application/vnd.jupyter.widget-view+json": {
       "model_id": "f04cc2140eaa4b9e83c5956566670605",
       "version_major": 2,
       "version_minor": 0
      },
      "text/plain": [
       "  0%|          | 0/200 [00:00<?, ?it/s]"
      ]
     },
     "metadata": {},
     "output_type": "display_data"
    },
    {
     "data": {
      "application/vnd.jupyter.widget-view+json": {
       "model_id": "3d233ed676b641c7b4bed0cb49044c94",
       "version_major": 2,
       "version_minor": 0
      },
      "text/plain": [
       "  0%|          | 0/200 [00:00<?, ?it/s]"
      ]
     },
     "metadata": {},
     "output_type": "display_data"
    },
    {
     "data": {
      "application/vnd.jupyter.widget-view+json": {
       "model_id": "1be0d403c839433dbf71d2539e0bf9c8",
       "version_major": 2,
       "version_minor": 0
      },
      "text/plain": [
       "  0%|          | 0/200 [00:00<?, ?it/s]"
      ]
     },
     "metadata": {},
     "output_type": "display_data"
    },
    {
     "data": {
      "application/vnd.jupyter.widget-view+json": {
       "model_id": "dad7d7fa5fb44cc7bf68785ceb0a025b",
       "version_major": 2,
       "version_minor": 0
      },
      "text/plain": [
       "  0%|          | 0/200 [00:00<?, ?it/s]"
      ]
     },
     "metadata": {},
     "output_type": "display_data"
    },
    {
     "data": {
      "application/vnd.jupyter.widget-view+json": {
       "model_id": "1ab340225b184959a007a37bf3c27229",
       "version_major": 2,
       "version_minor": 0
      },
      "text/plain": [
       "  0%|          | 0/200 [00:00<?, ?it/s]"
      ]
     },
     "metadata": {},
     "output_type": "display_data"
    },
    {
     "data": {
      "application/vnd.jupyter.widget-view+json": {
       "model_id": "15ca055e27004a6db6baceff6aa38d3e",
       "version_major": 2,
       "version_minor": 0
      },
      "text/plain": [
       "  0%|          | 0/200 [00:00<?, ?it/s]"
      ]
     },
     "metadata": {},
     "output_type": "display_data"
    },
    {
     "data": {
      "application/vnd.jupyter.widget-view+json": {
       "model_id": "d5829210a8d045ceafacc6cabbf166ca",
       "version_major": 2,
       "version_minor": 0
      },
      "text/plain": [
       "  0%|          | 0/200 [00:00<?, ?it/s]"
      ]
     },
     "metadata": {},
     "output_type": "display_data"
    },
    {
     "data": {
      "application/vnd.jupyter.widget-view+json": {
       "model_id": "eae91eef69964dec9506002489bcde7f",
       "version_major": 2,
       "version_minor": 0
      },
      "text/plain": [
       "  0%|          | 0/200 [00:00<?, ?it/s]"
      ]
     },
     "metadata": {},
     "output_type": "display_data"
    },
    {
     "data": {
      "application/vnd.jupyter.widget-view+json": {
       "model_id": "1ec0466260de4e50aea9698d9d72e805",
       "version_major": 2,
       "version_minor": 0
      },
      "text/plain": [
       "  0%|          | 0/200 [00:00<?, ?it/s]"
      ]
     },
     "metadata": {},
     "output_type": "display_data"
    }
   ],
   "source": [
    "names = ['Accuracy', 'Bal. Acc.', 'Eq.Odds', 'TPR Prot', 'TPR Non-Prot', 'TNR Prot', 'TNR Non-Prot']\n",
    "metrics = {'name':[], 'value':[], 'model':[]}\n",
    "\n",
    "for i in range(10):\n",
    "#     X_nonprot_train, X_nonprot_test, y_nonprot_train, y_nonprot_test = train_test_split(X[nonprot], y[nonprot], test_size=0.5, stratify=y[nonprot], shuffle=True)\n",
    "#     X_prot_train, X_prot_test, y_prot_train, y_prot_test = train_test_split(X[prot], y[prot], test_size=0.5, stratify=y[prot], shuffle=True)\n",
    "    \n",
    "#     X_train, X_test = np.concatenate((X_nonprot_train, X_prot_train)), np.concatenate((X_nonprot_test, X_prot_test))\n",
    "#     y_train, y_test = np.concatenate((y_nonprot_train, y_prot_train)), np.concatenate((y_nonprot_test, y_prot_test))\n",
    "    \n",
    "#     idxs_train = np.arange(X_train.shape[0])\n",
    "#     idxs_test = np.arange(X_test.shape[0])\n",
    "#     np.random.shuffle(idxs_train)\n",
    "#     np.random.shuffle(idxs_test)\n",
    "    \n",
    "#     X_train, X_test = X_train[idxs_train], X_test[idxs_test]\n",
    "#     y_train, y_test = y_train[idxs_train], y_test[idxs_test]\n",
    "\n",
    "    X_train, X_test, y_train, y_test = train_test_split(X, y, test_size=0.5, shuffle=True)\n",
    "    \n",
    "    adaboost = AdaBoostClassifier(DecisionTreeClassifier(max_depth=1), n_estimators=200)\n",
    "    adaboost.fit(X_train, y_train)\n",
    "    \n",
    "    y_pred = adaboost.predict(X_test)\n",
    "    \n",
    "    metrics['name'].append(names[0])\n",
    "    metrics['value'].append(accuracy_score(y_test, y_pred))\n",
    "    metrics['model'].append('AdaBoost')\n",
    "    metrics['name'].append(names[1])\n",
    "    metrics['value'].append(balanced_accuracy_score(y_test, y_pred))\n",
    "    metrics['model'].append('AdaBoost')\n",
    "    metrics['name'].append(names[2])\n",
    "    metrics['value'].append(abs(dFPR(y_test, y_pred, X_test, sa_index, sa_label)) + abs(dFNR(y_test, y_pred, X_test, sa_index, sa_label)))\n",
    "    metrics['model'].append('AdaBoost')\n",
    "    metrics['name'].append(names[3])\n",
    "    metrics['value'].append(TPR(y_test, y_pred, X_test, sa_index, sa_label, agg='prot'))\n",
    "    metrics['model'].append('AdaBoost')\n",
    "    metrics['name'].append(names[4])\n",
    "    metrics['value'].append(TPR(y_test, y_pred, X_test, sa_index, sa_label, agg='non-prot'))\n",
    "    metrics['model'].append('AdaBoost')\n",
    "    metrics['name'].append(names[5])\n",
    "    metrics['value'].append(TNR(y_test, y_pred, X_test, sa_index, sa_label, agg='prot'))\n",
    "    metrics['model'].append('AdaBoost')\n",
    "    metrics['name'].append(names[6])\n",
    "    metrics['value'].append(TNR(y_test, y_pred, X_test, sa_index, sa_label, agg='non-prot'))\n",
    "    metrics['model'].append('AdaBoost')\n",
    "    \n",
    "    adafair = AdaFair(sa_index=sa_index, sa_label=sa_label)\n",
    "    adafair.fit(X_train, y_train)\n",
    "    \n",
    "    y_pred = adafair.predict(X_test)\n",
    "    \n",
    "    metrics['name'].append(names[0])\n",
    "    metrics['value'].append(accuracy_score(y_test, y_pred))\n",
    "    metrics['model'].append('AdaFair')\n",
    "    metrics['name'].append(names[1])\n",
    "    metrics['value'].append(balanced_accuracy_score(y_test, y_pred))\n",
    "    metrics['model'].append('AdaFair')\n",
    "    metrics['name'].append(names[2])\n",
    "    metrics['value'].append(abs(dFPR(y_test, y_pred, X_test, sa_index, sa_label)) + abs(dFNR(y_test, y_pred, X_test, sa_index, sa_label)))\n",
    "    metrics['model'].append('AdaFair')\n",
    "    metrics['name'].append(names[3])\n",
    "    metrics['value'].append(TPR(y_test, y_pred, X_test, sa_index, sa_label, agg='prot'))\n",
    "    metrics['model'].append('AdaFair')\n",
    "    metrics['name'].append(names[4])\n",
    "    metrics['value'].append(TPR(y_test, y_pred, X_test, sa_index, sa_label, agg='non-prot'))\n",
    "    metrics['model'].append('AdaFair')\n",
    "    metrics['name'].append(names[5])\n",
    "    metrics['value'].append(TNR(y_test, y_pred, X_test, sa_index, sa_label, agg='prot'))\n",
    "    metrics['model'].append('AdaFair')\n",
    "    metrics['name'].append(names[6])\n",
    "    metrics['value'].append(TNR(y_test, y_pred, X_test, sa_index, sa_label, agg='non-prot'))\n",
    "    metrics['model'].append('AdaFair')"
   ]
  },
  {
   "cell_type": "code",
   "execution_count": 24,
   "id": "0b5c9b15",
   "metadata": {
    "ExecuteTime": {
     "end_time": "2022-03-22T14:39:59.621570Z",
     "start_time": "2022-03-22T14:39:59.607468Z"
    }
   },
   "outputs": [],
   "source": [
    "f = open('metrics_compass.txt','w')\n",
    "f.write(str(metrics))\n",
    "f.close()"
   ]
  }
 ],
 "metadata": {
  "kernelspec": {
   "display_name": "Python 3 (ipykernel)",
   "language": "python",
   "name": "python3"
  },
  "language_info": {
   "codemirror_mode": {
    "name": "ipython",
    "version": 3
   },
   "file_extension": ".py",
   "mimetype": "text/x-python",
   "name": "python",
   "nbconvert_exporter": "python",
   "pygments_lexer": "ipython3",
   "version": "3.9.7"
  },
  "toc": {
   "base_numbering": 1,
   "nav_menu": {},
   "number_sections": true,
   "sideBar": true,
   "skip_h1_title": false,
   "title_cell": "Table of Contents",
   "title_sidebar": "Contents",
   "toc_cell": false,
   "toc_position": {
    "height": "calc(100% - 180px)",
    "left": "10px",
    "top": "150px",
    "width": "341.306px"
   },
   "toc_section_display": true,
   "toc_window_display": true
  },
  "varInspector": {
   "cols": {
    "lenName": 16,
    "lenType": 16,
    "lenVar": 40
   },
   "kernels_config": {
    "python": {
     "delete_cmd_postfix": "",
     "delete_cmd_prefix": "del ",
     "library": "var_list.py",
     "varRefreshCmd": "print(var_dic_list())"
    },
    "r": {
     "delete_cmd_postfix": ") ",
     "delete_cmd_prefix": "rm(",
     "library": "var_list.r",
     "varRefreshCmd": "cat(var_dic_list()) "
    }
   },
   "types_to_exclude": [
    "module",
    "function",
    "builtin_function_or_method",
    "instance",
    "_Feature"
   ],
   "window_display": false
  }
 },
 "nbformat": 4,
 "nbformat_minor": 5
}
