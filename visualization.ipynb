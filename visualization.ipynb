{
 "cells": [
  {
   "cell_type": "code",
   "execution_count": 1,
   "id": "4adc056b",
   "metadata": {
    "ExecuteTime": {
     "end_time": "2022-03-22T14:19:29.380203Z",
     "start_time": "2022-03-22T14:19:28.135590Z"
    }
   },
   "outputs": [],
   "source": [
    "import seaborn as sns\n",
    "import numpy as np\n",
    "import pandas as pd\n",
    "import matplotlib.pyplot as plt\n",
    "from tqdm.notebook import tqdm"
   ]
  },
  {
   "cell_type": "code",
   "execution_count": 2,
   "id": "adb4e6ef",
   "metadata": {
    "ExecuteTime": {
     "end_time": "2022-03-22T14:19:29.831859Z",
     "start_time": "2022-03-22T14:19:29.819863Z"
    }
   },
   "outputs": [],
   "source": [
    "palette={'AdaFair':'mediumseagreen', 'AdaBoost':'darkgray', 'AdaWeights':'royalblue', 'SMOTEBoost':'orangered'}"
   ]
  },
  {
   "cell_type": "markdown",
   "id": "93124e03",
   "metadata": {},
   "source": [
    "# Adult"
   ]
  },
  {
   "cell_type": "code",
   "execution_count": 4,
   "id": "27e825bb",
   "metadata": {
    "ExecuteTime": {
     "end_time": "2022-03-22T14:19:57.647369Z",
     "start_time": "2022-03-22T14:19:57.633737Z"
    }
   },
   "outputs": [],
   "source": [
    "def load_dict_from_file(path):\n",
    "    f = open(path,'r')\n",
    "    data=f.read()\n",
    "    f.close()\n",
    "    return eval(data)"
   ]
  },
  {
   "cell_type": "code",
   "execution_count": 99,
   "id": "b3599ed5",
   "metadata": {
    "ExecuteTime": {
     "end_time": "2022-03-22T14:08:58.550563Z",
     "start_time": "2022-03-22T14:08:58.524304Z"
    }
   },
   "outputs": [],
   "source": [
    "adafair_results = load_dict_from_file('AdaFair/metrics_adult.txt')"
   ]
  },
  {
   "cell_type": "code",
   "execution_count": 100,
   "id": "788f4021",
   "metadata": {
    "ExecuteTime": {
     "end_time": "2022-03-22T14:08:58.928146Z",
     "start_time": "2022-03-22T14:08:58.910157Z"
    }
   },
   "outputs": [],
   "source": [
    "smote_results = load_dict_from_file(...)"
   ]
  },
  {
   "cell_type": "code",
   "execution_count": 101,
   "id": "ed604a4c",
   "metadata": {
    "ExecuteTime": {
     "end_time": "2022-03-22T14:08:59.285802Z",
     "start_time": "2022-03-22T14:08:59.279809Z"
    }
   },
   "outputs": [],
   "source": [
    "adaweights_results = load_dict_from_file(...)"
   ]
  },
  {
   "cell_type": "code",
   "execution_count": 102,
   "id": "0bb5a609",
   "metadata": {
    "ExecuteTime": {
     "end_time": "2022-03-22T14:08:59.705765Z",
     "start_time": "2022-03-22T14:08:59.695765Z"
    }
   },
   "outputs": [],
   "source": [
    "metrics = adaweights_results"
   ]
  },
  {
   "cell_type": "code",
   "execution_count": 103,
   "id": "776e2bbf",
   "metadata": {
    "ExecuteTime": {
     "end_time": "2022-03-22T14:09:00.206250Z",
     "start_time": "2022-03-22T14:09:00.188241Z"
    }
   },
   "outputs": [],
   "source": [
    "metrics['name'] += adafair_results['name']\n",
    "metrics['name'] += smote_results['name']\n",
    "\n",
    "metrics['value'] += adafair_results['value']\n",
    "metrics['value'] += smote_results['value']\n",
    "\n",
    "metrics['model'] += adafair_results['model']\n",
    "metrics['model'] += smote_results['model']"
   ]
  },
  {
   "cell_type": "code",
   "execution_count": 117,
   "id": "da842d69",
   "metadata": {
    "ExecuteTime": {
     "end_time": "2022-03-22T14:11:44.834775Z",
     "start_time": "2022-03-22T14:11:44.328409Z"
    }
   },
   "outputs": [
    {
     "data": {
      "image/png": "[encoded data removed]",
      "text/plain": [
       "<Figure size 576x432 with 1 Axes>"
      ]
     },
     "metadata": {
      "needs_background": "light"
     },
     "output_type": "display_data"
    }
   ],
   "source": [
    "plt.figure(figsize=(8,6))\n",
    "\n",
    "width = 0.2\n",
    "sns.barplot(x=metrics['name'], y=metrics['value'], hue=metrics['model'], palette=palette, edgecolor='k')\n",
    "plt.grid(axis='y')\n",
    "plt.legend()\n",
    "plt.yticks(np.linspace(0, 1, 21));"
   ]
  },
  {
   "cell_type": "markdown",
   "id": "904e9e06",
   "metadata": {},
   "source": [
    "# Bank"
   ]
  },
  {
   "cell_type": "code",
   "execution_count": 67,
   "id": "81a0369c",
   "metadata": {
    "ExecuteTime": {
     "end_time": "2022-03-22T14:00:43.772647Z",
     "start_time": "2022-03-22T14:00:43.752259Z"
    }
   },
   "outputs": [],
   "source": [
    "adafair_results = {'name': ['Accuracy', 'Bal. Acc.', 'Eq.Odds', 'TPR Prot', 'TPR Non-Prot', 'TNR Prot', 'TNR Non-Prot', 'Accuracy', 'Bal. Acc.', 'Eq.Odds', 'TPR Prot', 'TPR Non-Prot', 'TNR Prot', 'TNR Non-Prot', 'Accuracy', 'Bal. Acc.', 'Eq.Odds', 'TPR Prot', 'TPR Non-Prot', 'TNR Prot', 'TNR Non-Prot', 'Accuracy', 'Bal. Acc.', 'Eq.Odds', 'TPR Prot', 'TPR Non-Prot', 'TNR Prot', 'TNR Non-Prot', 'Accuracy', 'Bal. Acc.', 'Eq.Odds', 'TPR Prot', 'TPR Non-Prot', 'TNR Prot', 'TNR Non-Prot', 'Accuracy', 'Bal. Acc.', 'Eq.Odds', 'TPR Prot', 'TPR Non-Prot', 'TNR Prot', 'TNR Non-Prot', 'Accuracy', 'Bal. Acc.', 'Eq.Odds', 'TPR Prot', 'TPR Non-Prot', 'TNR Prot', 'TNR Non-Prot', 'Accuracy', 'Bal. Acc.', 'Eq.Odds', 'TPR Prot', 'TPR Non-Prot', 'TNR Prot', 'TNR Non-Prot', 'Accuracy', 'Bal. Acc.', 'Eq.Odds', 'TPR Prot', 'TPR Non-Prot', 'TNR Prot', 'TNR Non-Prot', 'Accuracy', 'Bal. Acc.', 'Eq.Odds', 'TPR Prot', 'TPR Non-Prot', 'TNR Prot', 'TNR Non-Prot', 'Accuracy', 'Bal. Acc.', 'Eq.Odds', 'TPR Prot', 'TPR Non-Prot', 'TNR Prot', 'TNR Non-Prot', 'Accuracy', 'Bal. Acc.', 'Eq.Odds', 'TPR Prot', 'TPR Non-Prot', 'TNR Prot', 'TNR Non-Prot', 'Accuracy', 'Bal. Acc.', 'Eq.Odds', 'TPR Prot', 'TPR Non-Prot', 'TNR Prot', 'TNR Non-Prot', 'Accuracy', 'Bal. Acc.', 'Eq.Odds', 'TPR Prot', 'TPR Non-Prot', 'TNR Prot', 'TNR Non-Prot', 'Accuracy', 'Bal. Acc.', 'Eq.Odds', 'TPR Prot', 'TPR Non-Prot', 'TNR Prot', 'TNR Non-Prot', 'Accuracy', 'Bal. Acc.', 'Eq.Odds', 'TPR Prot', 'TPR Non-Prot', 'TNR Prot', 'TNR Non-Prot', 'Accuracy', 'Bal. Acc.', 'Eq.Odds', 'TPR Prot', 'TPR Non-Prot', 'TNR Prot', 'TNR Non-Prot', 'Accuracy', 'Bal. Acc.', 'Eq.Odds', 'TPR Prot', 'TPR Non-Prot', 'TNR Prot', 'TNR Non-Prot', 'Accuracy', 'Bal. Acc.', 'Eq.Odds', 'TPR Prot', 'TPR Non-Prot', 'TNR Prot', 'TNR Non-Prot', 'Accuracy', 'Bal. Acc.', 'Eq.Odds', 'TPR Prot', 'TPR Non-Prot', 'TNR Prot', 'TNR Non-Prot'], 'value': [0.9023097690230977, 0.675081874467168, 0.10023155601359172, 0.34880239520958084, 0.42555438225976766, 0.9767898005884276, 0.9533102316250228, 0.11413858614138586, 0.5, 0.0, 1.0, 1.0, 0.0, 0.0, 0.9015098490150985, 0.6778122856120902, 0.10686798275356163, 0.3519434628975265, 0.4358974358974359, 0.9773173927284639, 0.9544033829748115, 0.6573342665733427, 0.5449936370867248, 2.0, 0.0, 1.0, 1.0, 0.0, 0.9013098690130987, 0.6804007743498104, 0.12405896194086843, 0.35320088300220753, 0.4532760472610097, 0.9742691963195179, 0.9502853986374517, 0.22642735726427357, 0.5029404977455888, 0.0781508465226412, 0.8432671081677704, 0.8882921589688507, 0.15446624867681785, 0.12134045295525686, 0.8991600839916009, 0.6749864413621194, 0.08849830847326966, 0.3526912181303116, 0.42291666666666666, 0.9745490486780332, 0.9562761887411186, 0.11858814118588142, 0.5, 0.0, 1.0, 1.0, 0.0, 0.0, 0.9044095590440956, 0.6769177052933744, 0.11238032314217672, 0.34738372093023256, 0.43454345434543457, 0.9795751633986928, 0.954354573671718, 0.8846115388461154, 0.5226037275328904, 0.010970258643330967, 0.056686046511627904, 0.0484048404840484, 0.9926470588235294, 0.989958006207778, 0.8994600539946005, 0.6741143557747067, 0.10510787674805008, 0.34363767074047447, 0.42857142857142855, 0.9758338161052719, 0.9556596971881759, 0.8801619838016198, 0.5208002990017415, 0.018698726549582018, 0.04385334291876348, 0.058163265306122446, 0.9932136058925763, 0.9888248017303533, 0.9014098590140985, 0.6749351517162357, 0.13706737822977139, 0.3294713975380159, 0.44785276073619634, 0.9770424836601307, 0.9583564686285397, 0.11793820617938207, 0.5, 0.0, 1.0, 1.0, 0.0, 0.0, 0.8993600639936007, 0.669448884777844, 0.11579892804065894, 0.3305024769992923, 0.42510548523206754, 0.9769869318648804, 0.9557910120569967, 0.11803819618038196, 0.5, 0.0, 1.0, 1.0, 0.0, 0.0, 0.8981601839816018, 0.6719995488832238, 0.08802791917674432, 0.3468950749464668, 0.4157303370786517, 0.9746866551978373, 0.955493998153278, 0.11898810118988101, 0.5, 0.0, 1.0, 1.0, 0.0, 0.0, 0.9024597540245975, 0.6811859001222332, 0.11897722197115071, 0.3557910673732021, 0.4482758620689655, 0.9758780865455138, 0.9493856592701265, 0.11388861113888611, 0.5, 0.0, 1.0, 1.0, 0.0, 0.0], 'model': ['AdaBoost', 'AdaBoost', 'AdaBoost', 'AdaBoost', 'AdaBoost', 'AdaBoost', 'AdaBoost', 'AdaFair', 'AdaFair', 'AdaFair', 'AdaFair', 'AdaFair', 'AdaFair', 'AdaFair', 'AdaBoost', 'AdaBoost', 'AdaBoost', 'AdaBoost', 'AdaBoost', 'AdaBoost', 'AdaBoost', 'AdaFair', 'AdaFair', 'AdaFair', 'AdaFair', 'AdaFair', 'AdaFair', 'AdaFair', 'AdaBoost', 'AdaBoost', 'AdaBoost', 'AdaBoost', 'AdaBoost', 'AdaBoost', 'AdaBoost', 'AdaFair', 'AdaFair', 'AdaFair', 'AdaFair', 'AdaFair', 'AdaFair', 'AdaFair', 'AdaBoost', 'AdaBoost', 'AdaBoost', 'AdaBoost', 'AdaBoost', 'AdaBoost', 'AdaBoost', 'AdaFair', 'AdaFair', 'AdaFair', 'AdaFair', 'AdaFair', 'AdaFair', 'AdaFair', 'AdaBoost', 'AdaBoost', 'AdaBoost', 'AdaBoost', 'AdaBoost', 'AdaBoost', 'AdaBoost', 'AdaFair', 'AdaFair', 'AdaFair', 'AdaFair', 'AdaFair', 'AdaFair', 'AdaFair', 'AdaBoost', 'AdaBoost', 'AdaBoost', 'AdaBoost', 'AdaBoost', 'AdaBoost', 'AdaBoost', 'AdaFair', 'AdaFair', 'AdaFair', 'AdaFair', 'AdaFair', 'AdaFair', 'AdaFair', 'AdaBoost', 'AdaBoost', 'AdaBoost', 'AdaBoost', 'AdaBoost', 'AdaBoost', 'AdaBoost', 'AdaFair', 'AdaFair', 'AdaFair', 'AdaFair', 'AdaFair', 'AdaFair', 'AdaFair', 'AdaBoost', 'AdaBoost', 'AdaBoost', 'AdaBoost', 'AdaBoost', 'AdaBoost', 'AdaBoost', 'AdaFair', 'AdaFair', 'AdaFair', 'AdaFair', 'AdaFair', 'AdaFair', 'AdaFair', 'AdaBoost', 'AdaBoost', 'AdaBoost', 'AdaBoost', 'AdaBoost', 'AdaBoost', 'AdaBoost', 'AdaFair', 'AdaFair', 'AdaFair', 'AdaFair', 'AdaFair', 'AdaFair', 'AdaFair', 'AdaBoost', 'AdaBoost', 'AdaBoost', 'AdaBoost', 'AdaBoost', 'AdaBoost', 'AdaBoost', 'AdaFair', 'AdaFair', 'AdaFair', 'AdaFair', 'AdaFair', 'AdaFair', 'AdaFair']}"
   ]
  },
  {
   "cell_type": "code",
   "execution_count": 68,
   "id": "586bf326",
   "metadata": {
    "ExecuteTime": {
     "end_time": "2022-03-22T14:00:45.033254Z",
     "start_time": "2022-03-22T14:00:45.024254Z"
    }
   },
   "outputs": [],
   "source": [
    "smote_results = {'name': ['Accuracy', 'Bal. Acc.', 'Eq.Odds', 'TPR Prot', 'TPR Non-Prot', 'TNR Prot', 'TNR Non-Prot'], 'value': [0.884761544227886, 0.7497830863890187, 0.10987743763672964, 0.5255847953216374, 0.6072572038420491, 0.949350649350649, 0.9211456202343314], 'model': ['SMOTEBoost', 'SMOTEBoost', 'SMOTEBoost', 'SMOTEBoost', 'SMOTEBoost', 'SMOTEBoost', 'SMOTEBoost']}"
   ]
  },
  {
   "cell_type": "code",
   "execution_count": 69,
   "id": "bb8eb308",
   "metadata": {
    "ExecuteTime": {
     "end_time": "2022-03-22T14:00:45.452233Z",
     "start_time": "2022-03-22T14:00:45.432183Z"
    }
   },
   "outputs": [],
   "source": [
    "adaweights_results = {'name': ['Accuracy', 'Bal. Acc.', 'Eq.Odds', 'TPR Prot', 'TPR Non-Prot', 'TNR Prot', 'TNR Non-Prot', 'Accuracy', 'Bal. Acc.', 'Eq.Odds', 'TPR Prot', 'TPR Non-Prot', 'TNR Prot', 'TNR Non-Prot', 'Accuracy', 'Bal. Acc.', 'Eq.Odds', 'TPR Prot', 'TPR Non-Prot', 'TNR Prot', 'TNR Non-Prot', 'Accuracy', 'Bal. Acc.', 'Eq.Odds', 'TPR Prot', 'TPR Non-Prot', 'TNR Prot', 'TNR Non-Prot', 'Accuracy', 'Bal. Acc.', 'Eq.Odds', 'TPR Prot', 'TPR Non-Prot', 'TNR Prot', 'TNR Non-Prot'], 'value': [0.851, 0.7415, 0.4132, 0.069, 0.1731, 0.7899, 0.4808, 0.8827, 0.5464, 0.2052, 0.0122, 0.0227, 0.8765, 0.6818, 0.8827, 0.5382, 0.2529, 0.0109, 0, 0.8849, 0.6429, 0.8805, 0.5211, 0.3086, 0.0046, 0.0536, 0.8846, 0.625, 0.882, 0.5273, 0.2198, 0.0077, 0, 0.8842, 0.6721], 'model': ['AdaWeights', 'AdaWeights', 'AdaWeights', 'AdaWeights', 'AdaWeights', 'AdaWeights', 'AdaWeights', 'AdaWeights', 'AdaWeights', 'AdaWeights', 'AdaWeights', 'AdaWeights', 'AdaWeights', 'AdaWeights', 'AdaWeights', 'AdaWeights', 'AdaWeights', 'AdaWeights', 'AdaWeights', 'AdaWeights', 'AdaWeights', 'AdaWeights', 'AdaWeights', 'AdaWeights', 'AdaWeights', 'AdaWeights', 'AdaWeights', 'AdaWeights', 'AdaWeights', 'AdaWeights', 'AdaWeights', 'AdaWeights', 'AdaWeights', 'AdaWeights', 'AdaWeights']}"
   ]
  },
  {
   "cell_type": "code",
   "execution_count": 70,
   "id": "c4f4e130",
   "metadata": {
    "ExecuteTime": {
     "end_time": "2022-03-22T14:00:45.807476Z",
     "start_time": "2022-03-22T14:00:45.800459Z"
    }
   },
   "outputs": [],
   "source": [
    "metrics = adaweights_results"
   ]
  },
  {
   "cell_type": "code",
   "execution_count": 71,
   "id": "e59c9e27",
   "metadata": {
    "ExecuteTime": {
     "end_time": "2022-03-22T14:00:46.215185Z",
     "start_time": "2022-03-22T14:00:46.205165Z"
    }
   },
   "outputs": [
    {
     "data": {
      "text/plain": [
       "(140, 140, 140)"
      ]
     },
     "execution_count": 71,
     "metadata": {},
     "output_type": "execute_result"
    }
   ],
   "source": [
    "len(metrics['name']), len(metrics['value']), len(metrics['model'])"
   ]
  },
  {
   "cell_type": "code",
   "execution_count": 72,
   "id": "a3c9f8c4",
   "metadata": {
    "ExecuteTime": {
     "end_time": "2022-03-22T14:00:49.740312Z",
     "start_time": "2022-03-22T14:00:49.726226Z"
    }
   },
   "outputs": [],
   "source": [
    "metrics['name'] += adafair_results['name']\n",
    "metrics['name'] += smote_results['name']\n",
    "\n",
    "metrics['value'] += adafair_results['value']\n",
    "metrics['value'] += smote_results['value']\n",
    "\n",
    "metrics['model'] += adafair_results['model']\n",
    "metrics['model'] += smote_results['model']"
   ]
  },
  {
   "cell_type": "code",
   "execution_count": 73,
   "id": "ba52b839",
   "metadata": {
    "ExecuteTime": {
     "end_time": "2022-03-22T14:00:50.664475Z",
     "start_time": "2022-03-22T14:00:50.162324Z"
    }
   },
   "outputs": [
    {
     "data": {
      "image/png": "[encoded data removed]",
      "text/plain": [
       "<Figure size 576x432 with 1 Axes>"
      ]
     },
     "metadata": {
      "needs_background": "light"
     },
     "output_type": "display_data"
    }
   ],
   "source": [
    "plt.figure(figsize=(8,6))\n",
    "\n",
    "width = 0.2\n",
    "sns.barplot(x=metrics['name'], y=metrics['value'], hue=metrics['model'], edgecolor='k')\n",
    "plt.grid(axis='y')\n",
    "plt.legend()\n",
    "plt.yticks(np.linspace(0, 1, 21));"
   ]
  },
  {
   "cell_type": "markdown",
   "id": "e730096b",
   "metadata": {},
   "source": [
    "# Compass"
   ]
  },
  {
   "cell_type": "code",
   "execution_count": 74,
   "id": "7ffa01b6",
   "metadata": {
    "ExecuteTime": {
     "end_time": "2022-03-22T14:02:26.248402Z",
     "start_time": "2022-03-22T14:02:26.219968Z"
    }
   },
   "outputs": [],
   "source": [
    "adafair_results = {'name': ['Accuracy', 'Bal. Acc.', 'Eq.Odds', 'TPR Prot', 'TPR Non-Prot', 'TNR Prot', 'TNR Non-Prot', 'Accuracy', 'Bal. Acc.', 'Eq.Odds', 'TPR Prot', 'TPR Non-Prot', 'TNR Prot', 'TNR Non-Prot', 'Accuracy', 'Bal. Acc.', 'Eq.Odds', 'TPR Prot', 'TPR Non-Prot', 'TNR Prot', 'TNR Non-Prot', 'Accuracy', 'Bal. Acc.', 'Eq.Odds', 'TPR Prot', 'TPR Non-Prot', 'TNR Prot', 'TNR Non-Prot', 'Accuracy', 'Bal. Acc.', 'Eq.Odds', 'TPR Prot', 'TPR Non-Prot', 'TNR Prot', 'TNR Non-Prot', 'Accuracy', 'Bal. Acc.', 'Eq.Odds', 'TPR Prot', 'TPR Non-Prot', 'TNR Prot', 'TNR Non-Prot', 'Accuracy', 'Bal. Acc.', 'Eq.Odds', 'TPR Prot', 'TPR Non-Prot', 'TNR Prot', 'TNR Non-Prot', 'Accuracy', 'Bal. Acc.', 'Eq.Odds', 'TPR Prot', 'TPR Non-Prot', 'TNR Prot', 'TNR Non-Prot', 'Accuracy', 'Bal. Acc.', 'Eq.Odds', 'TPR Prot', 'TPR Non-Prot', 'TNR Prot', 'TNR Non-Prot', 'Accuracy', 'Bal. Acc.', 'Eq.Odds', 'TPR Prot', 'TPR Non-Prot', 'TNR Prot', 'TNR Non-Prot', 'Accuracy', 'Bal. Acc.', 'Eq.Odds', 'TPR Prot', 'TPR Non-Prot', 'TNR Prot', 'TNR Non-Prot', 'Accuracy', 'Bal. Acc.', 'Eq.Odds', 'TPR Prot', 'TPR Non-Prot', 'TNR Prot', 'TNR Non-Prot', 'Accuracy', 'Bal. Acc.', 'Eq.Odds', 'TPR Prot', 'TPR Non-Prot', 'TNR Prot', 'TNR Non-Prot', 'Accuracy', 'Bal. Acc.', 'Eq.Odds', 'TPR Prot', 'TPR Non-Prot', 'TNR Prot', 'TNR Non-Prot', 'Accuracy', 'Bal. Acc.', 'Eq.Odds', 'TPR Prot', 'TPR Non-Prot', 'TNR Prot', 'TNR Non-Prot', 'Accuracy', 'Bal. Acc.', 'Eq.Odds', 'TPR Prot', 'TPR Non-Prot', 'TNR Prot', 'TNR Non-Prot', 'Accuracy', 'Bal. Acc.', 'Eq.Odds', 'TPR Prot', 'TPR Non-Prot', 'TNR Prot', 'TNR Non-Prot', 'Accuracy', 'Bal. Acc.', 'Eq.Odds', 'TPR Prot', 'TPR Non-Prot', 'TNR Prot', 'TNR Non-Prot', 'Accuracy', 'Bal. Acc.', 'Eq.Odds', 'TPR Prot', 'TPR Non-Prot', 'TNR Prot', 'TNR Non-Prot', 'Accuracy', 'Bal. Acc.', 'Eq.Odds', 'TPR Prot', 'TPR Non-Prot', 'TNR Prot', 'TNR Non-Prot'], 'value': [0.6794240242516104, 0.6783133073829106, 0.39998696951404056, 0.4715909090909091, 0.6983511154219205, 0.8223495702005731, 0.6491228070175439, 0.45737021599090566, 0.5, 0.0, 1.0, 1.0, 0.0, 0.0, 0.6775293671845396, 0.6737189499121163, 0.46868275166090523, 0.35602094240837695, 0.6443396226415095, 0.8830409356725146, 0.7026768642447419, 0.4740431981811292, 0.5, 0.0, 1.0, 1.0, 0.0, 0.0, 0.6680560818491853, 0.6619606657558526, 0.38459915975976294, 0.3802083333333333, 0.6063522617901829, 0.8717948717948718, 0.7133396404919584, 0.5392194012883668, 0.5063479086662728, 0.005467255398038519, 0.015625, 0.016361886429258902, 1.0, 0.9952696310312205, 0.665403561955286, 0.6607600018484502, 0.17074343233075792, 0.5294117647058824, 0.6104761904761905, 0.7897727272727273, 0.7000937207122774, 0.4622963243652899, 0.5, 0.0, 1.0, 1.0, 0.0, 0.0, 0.6824554755589238, 0.678489848812095, 0.5123097107475628, 0.3197969543147208, 0.6562203228869895, 0.8878787878787879, 0.7119924457034938, 0.47366426676771506, 0.5, 0.0, 1.0, 1.0, 0.0, 0.0, 0.6619931792345586, 0.6607751076618382, 0.42939112784200273, 0.43646408839779005, 0.6694599627560521, 0.8348348348348348, 0.6384395813510942, 0.5267146646456992, 0.5023904382470119, 0.0008693683961439325, 0.0055248618784530384, 0.004655493482309125, 1.0, 1.0, 0.6771504357711254, 0.67324116163366, 0.5458561545236698, 0.3439153439153439, 0.6702127659574468, 0.8957055214723927, 0.6761467889908257, 0.5392194012883668, 0.5028618152085037, 0.0005117026393621771, 0.005291005291005291, 0.005802707930367505, 1.0, 1.0, 0.6763925729442971, 0.6752718189832501, 0.6481795357055338, 0.3247422680412371, 0.7164605137963844, 0.8919753086419753, 0.6355140186915887, 0.4717696097006442, 0.5, 0.0, 1.0, 1.0, 0.0, 0.0, 0.6623721106479727, 0.6602618218924703, 0.37575090066976075, 0.4431818181818182, 0.6477695167286245, 0.8328173374613003, 0.6616541353383458, 0.4744221295945434, 0.5, 0.0, 1.0, 1.0, 0.0, 0.0, 0.6676771504357711, 0.6644759685540758, 0.6253077240840594, 0.3005464480874317, 0.6698382492863939, 0.9119496855345912, 0.655933762649494, 0.5187571049640015, 0.5390181511965255, 2.0, 0.0, 1.0, 1.0, 0.0], 'model': ['AdaBoost', 'AdaBoost', 'AdaBoost', 'AdaBoost', 'AdaBoost', 'AdaBoost', 'AdaBoost', 'AdaFair', 'AdaFair', 'AdaFair', 'AdaFair', 'AdaFair', 'AdaFair', 'AdaFair', 'AdaBoost', 'AdaBoost', 'AdaBoost', 'AdaBoost', 'AdaBoost', 'AdaBoost', 'AdaBoost', 'AdaFair', 'AdaFair', 'AdaFair', 'AdaFair', 'AdaFair', 'AdaFair', 'AdaFair', 'AdaBoost', 'AdaBoost', 'AdaBoost', 'AdaBoost', 'AdaBoost', 'AdaBoost', 'AdaBoost', 'AdaFair', 'AdaFair', 'AdaFair', 'AdaFair', 'AdaFair', 'AdaFair', 'AdaFair', 'AdaBoost', 'AdaBoost', 'AdaBoost', 'AdaBoost', 'AdaBoost', 'AdaBoost', 'AdaBoost', 'AdaFair', 'AdaFair', 'AdaFair', 'AdaFair', 'AdaFair', 'AdaFair', 'AdaFair', 'AdaBoost', 'AdaBoost', 'AdaBoost', 'AdaBoost', 'AdaBoost', 'AdaBoost', 'AdaBoost', 'AdaFair', 'AdaFair', 'AdaFair', 'AdaFair', 'AdaFair', 'AdaFair', 'AdaFair', 'AdaBoost', 'AdaBoost', 'AdaBoost', 'AdaBoost', 'AdaBoost', 'AdaBoost', 'AdaBoost', 'AdaFair', 'AdaFair', 'AdaFair', 'AdaFair', 'AdaFair', 'AdaFair', 'AdaFair', 'AdaBoost', 'AdaBoost', 'AdaBoost', 'AdaBoost', 'AdaBoost', 'AdaBoost', 'AdaBoost', 'AdaFair', 'AdaFair', 'AdaFair', 'AdaFair', 'AdaFair', 'AdaFair', 'AdaFair', 'AdaBoost', 'AdaBoost', 'AdaBoost', 'AdaBoost', 'AdaBoost', 'AdaBoost', 'AdaBoost', 'AdaFair', 'AdaFair', 'AdaFair', 'AdaFair', 'AdaFair', 'AdaFair', 'AdaFair', 'AdaBoost', 'AdaBoost', 'AdaBoost', 'AdaBoost', 'AdaBoost', 'AdaBoost', 'AdaBoost', 'AdaFair', 'AdaFair', 'AdaFair', 'AdaFair', 'AdaFair', 'AdaFair', 'AdaFair', 'AdaBoost', 'AdaBoost', 'AdaBoost', 'AdaBoost', 'AdaBoost', 'AdaBoost', 'AdaBoost', 'AdaFair', 'AdaFair', 'AdaFair', 'AdaFair', 'AdaFair', 'AdaFair', 'AdaFair']}"
   ]
  },
  {
   "cell_type": "code",
   "execution_count": 75,
   "id": "97500a83",
   "metadata": {
    "ExecuteTime": {
     "end_time": "2022-03-22T14:02:26.716071Z",
     "start_time": "2022-03-22T14:02:26.711068Z"
    }
   },
   "outputs": [],
   "source": [
    "smote_results = {'name': ['Accuracy', 'Bal. Acc.', 'Eq.Odds', 'TPR Prot', 'TPR Non-Prot', 'TNR Prot', 'TNR Non-Prot'], 'value': [0.6547845373891, 0.6715311556948075, 0.5720339555082817, 0.4717948717948718, 0.7700483091787443, 0.8284023668639053, 0.5546218487394958], 'model': ['SMOTEBoost', 'SMOTEBoost', 'SMOTEBoost', 'SMOTEBoost', 'SMOTEBoost', 'SMOTEBoost', 'SMOTEBoost']}"
   ]
  },
  {
   "cell_type": "code",
   "execution_count": 76,
   "id": "6dfb75a8",
   "metadata": {
    "ExecuteTime": {
     "end_time": "2022-03-22T14:02:27.491643Z",
     "start_time": "2022-03-22T14:02:27.470455Z"
    }
   },
   "outputs": [],
   "source": [
    "adaweights_results = {'name': ['Accuracy', 'Bal. Acc.', 'Eq.Odds', 'TPR Prot', 'TPR Non-Prot', 'TNR Prot', 'TNR Non-Prot', 'Accuracy', 'Bal. Acc.', 'Eq.Odds', 'TPR Prot', 'TPR Non-Prot', 'TNR Prot', 'TNR Non-Prot', 'Accuracy', 'Bal. Acc.', 'Eq.Odds', 'TPR Prot', 'TPR Non-Prot', 'TNR Prot', 'TNR Non-Prot', 'Accuracy', 'Bal. Acc.', 'Eq.Odds', 'TPR Prot', 'TPR Non-Prot', 'TNR Prot', 'TNR Non-Prot', 'Accuracy', 'Bal. Acc.', 'Eq.Odds', 'TPR Prot', 'TPR Non-Prot', 'TNR Prot', 'TNR Non-Prot'], 'value': [0.6302, 0.6251, 0.1127, 0.2771, 0.2262, 0.3488, 0.4107, 0.5987, 0.6109, 0.1144, 0.4012, 0.3157, 0.2194, 0.2483, 0.615, 0.6134, 0.1115, 0.2909, 0.25, 0.3121, 0.3827, 0.6478, 0.6374, 0.1278, 0.2514, 0.2071, 0.3806, 0.4641, 0.6302, 0.6182, 0.126, 0.2385, 0.1918, 0.3783, 0.4575], 'model': ['AdaWeights', 'AdaWeights', 'AdaWeights', 'AdaWeights', 'AdaWeights', 'AdaWeights', 'AdaWeights', 'AdaWeights', 'AdaWeights', 'AdaWeights', 'AdaWeights', 'AdaWeights', 'AdaWeights', 'AdaWeights', 'AdaWeights', 'AdaWeights', 'AdaWeights', 'AdaWeights', 'AdaWeights', 'AdaWeights', 'AdaWeights', 'AdaWeights', 'AdaWeights', 'AdaWeights', 'AdaWeights', 'AdaWeights', 'AdaWeights', 'AdaWeights', 'AdaWeights', 'AdaWeights', 'AdaWeights', 'AdaWeights', 'AdaWeights', 'AdaWeights', 'AdaWeights']}"
   ]
  },
  {
   "cell_type": "code",
   "execution_count": 77,
   "id": "a333670e",
   "metadata": {
    "ExecuteTime": {
     "end_time": "2022-03-22T14:02:28.099152Z",
     "start_time": "2022-03-22T14:02:28.090134Z"
    }
   },
   "outputs": [],
   "source": [
    "metrics = adaweights_results"
   ]
  },
  {
   "cell_type": "code",
   "execution_count": 78,
   "id": "35a9b528",
   "metadata": {
    "ExecuteTime": {
     "end_time": "2022-03-22T14:02:28.613710Z",
     "start_time": "2022-03-22T14:02:28.598654Z"
    }
   },
   "outputs": [
    {
     "data": {
      "text/plain": [
       "(140, 140, 140)"
      ]
     },
     "execution_count": 78,
     "metadata": {},
     "output_type": "execute_result"
    }
   ],
   "source": [
    "len(metrics['name']), len(metrics['value']), len(metrics['model'])"
   ]
  },
  {
   "cell_type": "code",
   "execution_count": 79,
   "id": "0915f82b",
   "metadata": {
    "ExecuteTime": {
     "end_time": "2022-03-22T14:02:29.143174Z",
     "start_time": "2022-03-22T14:02:29.130522Z"
    }
   },
   "outputs": [],
   "source": [
    "metrics['name'] += adafair_results['name']\n",
    "metrics['name'] += smote_results['name']\n",
    "\n",
    "metrics['value'] += adafair_results['value']\n",
    "metrics['value'] += smote_results['value']\n",
    "\n",
    "metrics['model'] += adafair_results['model']\n",
    "metrics['model'] += smote_results['model']"
   ]
  },
  {
   "cell_type": "code",
   "execution_count": 80,
   "id": "df5ed6cd",
   "metadata": {
    "ExecuteTime": {
     "end_time": "2022-03-22T14:02:30.598152Z",
     "start_time": "2022-03-22T14:02:30.151848Z"
    }
   },
   "outputs": [
    {
     "data": {
      "image/png": "[encoded data removed]",
      "text/plain": [
       "<Figure size 576x432 with 1 Axes>"
      ]
     },
     "metadata": {
      "needs_background": "light"
     },
     "output_type": "display_data"
    }
   ],
   "source": [
    "plt.figure(figsize=(8,6))\n",
    "\n",
    "width = 0.2\n",
    "sns.barplot(x=metrics['name'], y=metrics['value'], hue=metrics['model'], edgecolor='k')\n",
    "plt.grid(axis='y')\n",
    "plt.legend()\n",
    "plt.yticks(np.linspace(0, 1, 21));"
   ]
  },
  {
   "cell_type": "markdown",
   "id": "d73e5dd4",
   "metadata": {},
   "source": [
    "# KDD"
   ]
  },
  {
   "cell_type": "code",
   "execution_count": 74,
   "id": "7f7a795b",
   "metadata": {
    "ExecuteTime": {
     "end_time": "2022-03-22T14:02:26.248402Z",
     "start_time": "2022-03-22T14:02:26.219968Z"
    }
   },
   "outputs": [],
   "source": [
    "# adafair_results = {'name': ['Accuracy', 'Bal. Acc.', 'Eq.Odds', 'TPR Prot', 'TPR Non-Prot', 'TNR Prot', 'TNR Non-Prot', 'Accuracy', 'Bal. Acc.', 'Eq.Odds', 'TPR Prot', 'TPR Non-Prot', 'TNR Prot', 'TNR Non-Prot', 'Accuracy', 'Bal. Acc.', 'Eq.Odds', 'TPR Prot', 'TPR Non-Prot', 'TNR Prot', 'TNR Non-Prot', 'Accuracy', 'Bal. Acc.', 'Eq.Odds', 'TPR Prot', 'TPR Non-Prot', 'TNR Prot', 'TNR Non-Prot', 'Accuracy', 'Bal. Acc.', 'Eq.Odds', 'TPR Prot', 'TPR Non-Prot', 'TNR Prot', 'TNR Non-Prot', 'Accuracy', 'Bal. Acc.', 'Eq.Odds', 'TPR Prot', 'TPR Non-Prot', 'TNR Prot', 'TNR Non-Prot', 'Accuracy', 'Bal. Acc.', 'Eq.Odds', 'TPR Prot', 'TPR Non-Prot', 'TNR Prot', 'TNR Non-Prot', 'Accuracy', 'Bal. Acc.', 'Eq.Odds', 'TPR Prot', 'TPR Non-Prot', 'TNR Prot', 'TNR Non-Prot', 'Accuracy', 'Bal. Acc.', 'Eq.Odds', 'TPR Prot', 'TPR Non-Prot', 'TNR Prot', 'TNR Non-Prot', 'Accuracy', 'Bal. Acc.', 'Eq.Odds', 'TPR Prot', 'TPR Non-Prot', 'TNR Prot', 'TNR Non-Prot', 'Accuracy', 'Bal. Acc.', 'Eq.Odds', 'TPR Prot', 'TPR Non-Prot', 'TNR Prot', 'TNR Non-Prot', 'Accuracy', 'Bal. Acc.', 'Eq.Odds', 'TPR Prot', 'TPR Non-Prot', 'TNR Prot', 'TNR Non-Prot', 'Accuracy', 'Bal. Acc.', 'Eq.Odds', 'TPR Prot', 'TPR Non-Prot', 'TNR Prot', 'TNR Non-Prot', 'Accuracy', 'Bal. Acc.', 'Eq.Odds', 'TPR Prot', 'TPR Non-Prot', 'TNR Prot', 'TNR Non-Prot', 'Accuracy', 'Bal. Acc.', 'Eq.Odds', 'TPR Prot', 'TPR Non-Prot', 'TNR Prot', 'TNR Non-Prot', 'Accuracy', 'Bal. Acc.', 'Eq.Odds', 'TPR Prot', 'TPR Non-Prot', 'TNR Prot', 'TNR Non-Prot', 'Accuracy', 'Bal. Acc.', 'Eq.Odds', 'TPR Prot', 'TPR Non-Prot', 'TNR Prot', 'TNR Non-Prot', 'Accuracy', 'Bal. Acc.', 'Eq.Odds', 'TPR Prot', 'TPR Non-Prot', 'TNR Prot', 'TNR Non-Prot', 'Accuracy', 'Bal. Acc.', 'Eq.Odds', 'TPR Prot', 'TPR Non-Prot', 'TNR Prot', 'TNR Non-Prot', 'Accuracy', 'Bal. Acc.', 'Eq.Odds', 'TPR Prot', 'TPR Non-Prot', 'TNR Prot', 'TNR Non-Prot'], 'value': [0.6794240242516104, 0.6783133073829106, 0.39998696951404056, 0.4715909090909091, 0.6983511154219205, 0.8223495702005731, 0.6491228070175439, 0.45737021599090566, 0.5, 0.0, 1.0, 1.0, 0.0, 0.0, 0.6775293671845396, 0.6737189499121163, 0.46868275166090523, 0.35602094240837695, 0.6443396226415095, 0.8830409356725146, 0.7026768642447419, 0.4740431981811292, 0.5, 0.0, 1.0, 1.0, 0.0, 0.0, 0.6680560818491853, 0.6619606657558526, 0.38459915975976294, 0.3802083333333333, 0.6063522617901829, 0.8717948717948718, 0.7133396404919584, 0.5392194012883668, 0.5063479086662728, 0.005467255398038519, 0.015625, 0.016361886429258902, 1.0, 0.9952696310312205, 0.665403561955286, 0.6607600018484502, 0.17074343233075792, 0.5294117647058824, 0.6104761904761905, 0.7897727272727273, 0.7000937207122774, 0.4622963243652899, 0.5, 0.0, 1.0, 1.0, 0.0, 0.0, 0.6824554755589238, 0.678489848812095, 0.5123097107475628, 0.3197969543147208, 0.6562203228869895, 0.8878787878787879, 0.7119924457034938, 0.47366426676771506, 0.5, 0.0, 1.0, 1.0, 0.0, 0.0, 0.6619931792345586, 0.6607751076618382, 0.42939112784200273, 0.43646408839779005, 0.6694599627560521, 0.8348348348348348, 0.6384395813510942, 0.5267146646456992, 0.5023904382470119, 0.0008693683961439325, 0.0055248618784530384, 0.004655493482309125, 1.0, 1.0, 0.6771504357711254, 0.67324116163366, 0.5458561545236698, 0.3439153439153439, 0.6702127659574468, 0.8957055214723927, 0.6761467889908257, 0.5392194012883668, 0.5028618152085037, 0.0005117026393621771, 0.005291005291005291, 0.005802707930367505, 1.0, 1.0, 0.6763925729442971, 0.6752718189832501, 0.6481795357055338, 0.3247422680412371, 0.7164605137963844, 0.8919753086419753, 0.6355140186915887, 0.4717696097006442, 0.5, 0.0, 1.0, 1.0, 0.0, 0.0, 0.6623721106479727, 0.6602618218924703, 0.37575090066976075, 0.4431818181818182, 0.6477695167286245, 0.8328173374613003, 0.6616541353383458, 0.4744221295945434, 0.5, 0.0, 1.0, 1.0, 0.0, 0.0, 0.6676771504357711, 0.6644759685540758, 0.6253077240840594, 0.3005464480874317, 0.6698382492863939, 0.9119496855345912, 0.655933762649494, 0.5187571049640015, 0.5390181511965255, 2.0, 0.0, 1.0, 1.0, 0.0], 'model': ['AdaBoost', 'AdaBoost', 'AdaBoost', 'AdaBoost', 'AdaBoost', 'AdaBoost', 'AdaBoost', 'AdaFair', 'AdaFair', 'AdaFair', 'AdaFair', 'AdaFair', 'AdaFair', 'AdaFair', 'AdaBoost', 'AdaBoost', 'AdaBoost', 'AdaBoost', 'AdaBoost', 'AdaBoost', 'AdaBoost', 'AdaFair', 'AdaFair', 'AdaFair', 'AdaFair', 'AdaFair', 'AdaFair', 'AdaFair', 'AdaBoost', 'AdaBoost', 'AdaBoost', 'AdaBoost', 'AdaBoost', 'AdaBoost', 'AdaBoost', 'AdaFair', 'AdaFair', 'AdaFair', 'AdaFair', 'AdaFair', 'AdaFair', 'AdaFair', 'AdaBoost', 'AdaBoost', 'AdaBoost', 'AdaBoost', 'AdaBoost', 'AdaBoost', 'AdaBoost', 'AdaFair', 'AdaFair', 'AdaFair', 'AdaFair', 'AdaFair', 'AdaFair', 'AdaFair', 'AdaBoost', 'AdaBoost', 'AdaBoost', 'AdaBoost', 'AdaBoost', 'AdaBoost', 'AdaBoost', 'AdaFair', 'AdaFair', 'AdaFair', 'AdaFair', 'AdaFair', 'AdaFair', 'AdaFair', 'AdaBoost', 'AdaBoost', 'AdaBoost', 'AdaBoost', 'AdaBoost', 'AdaBoost', 'AdaBoost', 'AdaFair', 'AdaFair', 'AdaFair', 'AdaFair', 'AdaFair', 'AdaFair', 'AdaFair', 'AdaBoost', 'AdaBoost', 'AdaBoost', 'AdaBoost', 'AdaBoost', 'AdaBoost', 'AdaBoost', 'AdaFair', 'AdaFair', 'AdaFair', 'AdaFair', 'AdaFair', 'AdaFair', 'AdaFair', 'AdaBoost', 'AdaBoost', 'AdaBoost', 'AdaBoost', 'AdaBoost', 'AdaBoost', 'AdaBoost', 'AdaFair', 'AdaFair', 'AdaFair', 'AdaFair', 'AdaFair', 'AdaFair', 'AdaFair', 'AdaBoost', 'AdaBoost', 'AdaBoost', 'AdaBoost', 'AdaBoost', 'AdaBoost', 'AdaBoost', 'AdaFair', 'AdaFair', 'AdaFair', 'AdaFair', 'AdaFair', 'AdaFair', 'AdaFair', 'AdaBoost', 'AdaBoost', 'AdaBoost', 'AdaBoost', 'AdaBoost', 'AdaBoost', 'AdaBoost', 'AdaFair', 'AdaFair', 'AdaFair', 'AdaFair', 'AdaFair', 'AdaFair', 'AdaFair']}"
   ]
  },
  {
   "cell_type": "code",
   "execution_count": 82,
   "id": "0826339b",
   "metadata": {
    "ExecuteTime": {
     "end_time": "2022-03-22T14:04:22.136506Z",
     "start_time": "2022-03-22T14:04:22.123482Z"
    }
   },
   "outputs": [],
   "source": [
    "smote_results = {'name': ['Accuracy', 'Bal. Acc.', 'Eq.Odds', 'TPR Prot', 'TPR Non-Prot', 'TNR Prot', 'TNR Non-Prot'], 'value': [0.9435991120866267, 0.694814123653508, 0.27619926752427404, 0.20573183213920163, 0.4586220953933958, 0.99474113223423, 0.9714321279641501], 'model': ['SMOTEBoost', 'SMOTEBoost', 'SMOTEBoost', 'SMOTEBoost', 'SMOTEBoost', 'SMOTEBoost', 'SMOTEBoost']}"
   ]
  },
  {
   "cell_type": "code",
   "execution_count": 83,
   "id": "b8d64ae6",
   "metadata": {
    "ExecuteTime": {
     "end_time": "2022-03-22T14:04:22.697902Z",
     "start_time": "2022-03-22T14:04:22.680896Z"
    }
   },
   "outputs": [],
   "source": [
    "adaweights_results = {'name': ['Accuracy', 'Bal. Acc.', 'Eq.Odds', 'TPR Prot', 'TPR Non-Prot', 'TNR Prot', 'TNR Non-Prot', 'Accuracy', 'Bal. Acc.', 'Eq.Odds', 'TPR Prot', 'TPR Non-Prot', 'TNR Prot', 'TNR Non-Prot', 'Accuracy', 'Bal. Acc.', 'Eq.Odds', 'TPR Prot', 'TPR Non-Prot', 'TNR Prot', 'TNR Non-Prot', 'Accuracy', 'Bal. Acc.', 'Eq.Odds', 'TPR Prot', 'TPR Non-Prot', 'TNR Prot', 'TNR Non-Prot', 'Accuracy', 'Bal. Acc.', 'Eq.Odds', 'TPR Prot', 'TPR Non-Prot', 'TNR Prot', 'TNR Non-Prot'], 'value': [0.9363, 0.6056, 0.0845, 0.0048, 0.0231, 0.958, 0.8918, 0.9405, 0.5893, 0.0996, 0.0015, 0.0219, 0.9702, 0.891, 0.9313, 0.6059, 0.0799, 0.0077, 0.0228, 0.9505, 0.8857, 0.9401, 0.6115, 0.085, 0.0061, 0.0235, 0.9608, 0.8932, 0.9365, 0.6229, 0.0945, 0.0077, 0.0272, 0.9588, 0.8838], 'model': ['AdaWeights', 'AdaWeights', 'AdaWeights', 'AdaWeights', 'AdaWeights', 'AdaWeights', 'AdaWeights', 'AdaWeights', 'AdaWeights', 'AdaWeights', 'AdaWeights', 'AdaWeights', 'AdaWeights', 'AdaWeights', 'AdaWeights', 'AdaWeights', 'AdaWeights', 'AdaWeights', 'AdaWeights', 'AdaWeights', 'AdaWeights', 'AdaWeights', 'AdaWeights', 'AdaWeights', 'AdaWeights', 'AdaWeights', 'AdaWeights', 'AdaWeights', 'AdaWeights', 'AdaWeights', 'AdaWeights', 'AdaWeights', 'AdaWeights', 'AdaWeights', 'AdaWeights']}"
   ]
  },
  {
   "cell_type": "code",
   "execution_count": 84,
   "id": "b5216146",
   "metadata": {
    "ExecuteTime": {
     "end_time": "2022-03-22T14:04:23.180164Z",
     "start_time": "2022-03-22T14:04:23.173165Z"
    }
   },
   "outputs": [],
   "source": [
    "metrics = adaweights_results"
   ]
  },
  {
   "cell_type": "code",
   "execution_count": 85,
   "id": "5a4b70da",
   "metadata": {
    "ExecuteTime": {
     "end_time": "2022-03-22T14:04:23.693659Z",
     "start_time": "2022-03-22T14:04:23.686092Z"
    }
   },
   "outputs": [
    {
     "data": {
      "text/plain": [
       "(7, 7, 7)"
      ]
     },
     "execution_count": 85,
     "metadata": {},
     "output_type": "execute_result"
    }
   ],
   "source": [
    "len(metrics['name']), len(metrics['value']), len(metrics['model'])"
   ]
  },
  {
   "cell_type": "code",
   "execution_count": 86,
   "id": "f3eeafa7",
   "metadata": {
    "ExecuteTime": {
     "end_time": "2022-03-22T14:04:24.631688Z",
     "start_time": "2022-03-22T14:04:24.626692Z"
    }
   },
   "outputs": [],
   "source": [
    "metrics['name'] += adafair_results['name']\n",
    "metrics['name'] += smote_results['name']\n",
    "\n",
    "metrics['value'] += adafair_results['value']\n",
    "metrics['value'] += smote_results['value']\n",
    "\n",
    "metrics['model'] += adafair_results['model']\n",
    "metrics['model'] += smote_results['model']"
   ]
  },
  {
   "cell_type": "code",
   "execution_count": 87,
   "id": "f30965b6",
   "metadata": {
    "ExecuteTime": {
     "end_time": "2022-03-22T14:04:25.444014Z",
     "start_time": "2022-03-22T14:04:25.088977Z"
    },
    "scrolled": false
   },
   "outputs": [
    {
     "data": {
      "image/png": "[encoded data removed]",
      "text/plain": [
       "<Figure size 576x432 with 1 Axes>"
      ]
     },
     "metadata": {
      "needs_background": "light"
     },
     "output_type": "display_data"
    }
   ],
   "source": [
    "plt.figure(figsize=(8,6))\n",
    "\n",
    "width = 0.2\n",
    "sns.barplot(x=metrics['name'], y=metrics['value'], hue=metrics['model'], edgecolor='k')\n",
    "plt.grid(axis='y')\n",
    "plt.legend()\n",
    "plt.yticks(np.linspace(0, 1, 21));"
   ]
  }
 ],
 "metadata": {
  "kernelspec": {
   "display_name": "Python 3 (ipykernel)",
   "language": "python",
   "name": "python3"
  },
  "language_info": {
   "codemirror_mode": {
    "name": "ipython",
    "version": 3
   },
   "file_extension": ".py",
   "mimetype": "text/x-python",
   "name": "python",
   "nbconvert_exporter": "python",
   "pygments_lexer": "ipython3",
   "version": "3.9.7"
  },
  "toc": {
   "base_numbering": 1,
   "nav_menu": {},
   "number_sections": true,
   "sideBar": true,
   "skip_h1_title": false,
   "title_cell": "Table of Contents",
   "title_sidebar": "Contents",
   "toc_cell": false,
   "toc_position": {},
   "toc_section_display": true,
   "toc_window_display": false
  },
  "varInspector": {
   "cols": {
    "lenName": 16,
    "lenType": 16,
    "lenVar": 40
   },
   "kernels_config": {
    "python": {
     "delete_cmd_postfix": "",
     "delete_cmd_prefix": "del ",
     "library": "var_list.py",
     "varRefreshCmd": "print(var_dic_list())"
    },
    "r": {
     "delete_cmd_postfix": ") ",
     "delete_cmd_prefix": "rm(",
     "library": "var_list.r",
     "varRefreshCmd": "cat(var_dic_list()) "
    }
   },
   "types_to_exclude": [
    "module",
    "function",
    "builtin_function_or_method",
    "instance",
    "_Feature"
   ],
   "window_display": false
  }
 },
 "nbformat": 4,
 "nbformat_minor": 5
}
