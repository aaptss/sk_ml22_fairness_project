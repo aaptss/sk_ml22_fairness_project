{
 "cells": [
  {
   "cell_type": "code",
   "execution_count": 81,
   "id": "4adc056b",
   "metadata": {
    "ExecuteTime": {
     "end_time": "2022-03-22T21:53:27.638328Z",
     "start_time": "2022-03-22T21:53:27.623327Z"
    }
   },
   "outputs": [],
   "source": [
    "import seaborn as sns\n",
    "import numpy as np\n",
    "import pandas as pd\n",
    "import matplotlib.pyplot as plt\n",
    "from tqdm.notebook import tqdm"
   ]
  },
  {
   "cell_type": "code",
   "execution_count": 93,
   "id": "adb4e6ef",
   "metadata": {
    "ExecuteTime": {
     "end_time": "2022-03-22T21:53:58.719351Z",
     "start_time": "2022-03-22T21:53:58.702345Z"
    }
   },
   "outputs": [],
   "source": [
    "palette={'AdaFair':'mediumseagreen', 'AdaBoost':'darkgray', 'AdaWeights':'royalblue', 'SMOTEBoost':'orangered', 'DispMist_FPR':'darkorchid', 'RandomForest':'deeppink', 'LogisticRegression':'gold'}"
   ]
  },
  {
   "cell_type": "markdown",
   "id": "93124e03",
   "metadata": {},
   "source": [
    "# Adult"
   ]
  },
  {
   "cell_type": "code",
   "execution_count": 28,
   "id": "27e825bb",
   "metadata": {
    "ExecuteTime": {
     "end_time": "2022-03-22T21:36:08.726884Z",
     "start_time": "2022-03-22T21:36:08.723883Z"
    }
   },
   "outputs": [],
   "source": [
    "def load_dict_from_file(path):\n",
    "    f = open(path,'r')\n",
    "    data=f.read()\n",
    "    f.close()\n",
    "    return eval(data)"
   ]
  },
  {
   "cell_type": "code",
   "execution_count": 4,
   "id": "b3599ed5",
   "metadata": {
    "ExecuteTime": {
     "end_time": "2022-03-22T21:31:39.636613Z",
     "start_time": "2022-03-22T21:31:39.625595Z"
    }
   },
   "outputs": [],
   "source": [
    "adafair_results = load_dict_from_file('AdaFair/metrics_adult.txt')"
   ]
  },
  {
   "cell_type": "code",
   "execution_count": 5,
   "id": "788f4021",
   "metadata": {
    "ExecuteTime": {
     "end_time": "2022-03-22T21:31:40.136490Z",
     "start_time": "2022-03-22T21:31:40.118460Z"
    }
   },
   "outputs": [],
   "source": [
    "smote_results = load_dict_from_file('SMOTEBoost/metrics_adult.txt')"
   ]
  },
  {
   "cell_type": "code",
   "execution_count": 6,
   "id": "ed604a4c",
   "metadata": {
    "ExecuteTime": {
     "end_time": "2022-03-22T21:31:41.064552Z",
     "start_time": "2022-03-22T21:31:41.058554Z"
    }
   },
   "outputs": [],
   "source": [
    "adaweights_results = load_dict_from_file('AdaWeights/metrics_adult.txt')"
   ]
  },
  {
   "cell_type": "code",
   "execution_count": 7,
   "id": "94e19df2",
   "metadata": {
    "ExecuteTime": {
     "end_time": "2022-03-22T21:31:41.520407Z",
     "start_time": "2022-03-22T21:31:41.494410Z"
    }
   },
   "outputs": [
    {
     "ename": "FileNotFoundError",
     "evalue": "[Errno 2] No such file or directory: 'disparate_mistreatment/metrics_adult.txt'",
     "output_type": "error",
     "traceback": [
      "\u001b[1;31m---------------------------------------------------------------------------\u001b[0m",
      "\u001b[1;31mFileNotFoundError\u001b[0m                         Traceback (most recent call last)",
      "Input \u001b[1;32mIn [7]\u001b[0m, in \u001b[0;36m<cell line: 1>\u001b[1;34m()\u001b[0m\n\u001b[1;32m----> 1\u001b[0m zafar_results \u001b[38;5;241m=\u001b[39m \u001b[43mload_dict_from_file\u001b[49m\u001b[43m(\u001b[49m\u001b[38;5;124;43m'\u001b[39;49m\u001b[38;5;124;43mdisparate_mistreatment/metrics_adult.txt\u001b[39;49m\u001b[38;5;124;43m'\u001b[39;49m\u001b[43m)\u001b[49m\n",
      "Input \u001b[1;32mIn [3]\u001b[0m, in \u001b[0;36mload_dict_from_file\u001b[1;34m(path)\u001b[0m\n\u001b[0;32m      1\u001b[0m \u001b[38;5;28;01mdef\u001b[39;00m \u001b[38;5;21mload_dict_from_file\u001b[39m(path):\n\u001b[1;32m----> 2\u001b[0m     f \u001b[38;5;241m=\u001b[39m \u001b[38;5;28;43mopen\u001b[39;49m\u001b[43m(\u001b[49m\u001b[43mpath\u001b[49m\u001b[43m,\u001b[49m\u001b[38;5;124;43m'\u001b[39;49m\u001b[38;5;124;43mr\u001b[39;49m\u001b[38;5;124;43m'\u001b[39;49m\u001b[43m)\u001b[49m\n\u001b[0;32m      3\u001b[0m     data\u001b[38;5;241m=\u001b[39mf\u001b[38;5;241m.\u001b[39mread()\n\u001b[0;32m      4\u001b[0m     f\u001b[38;5;241m.\u001b[39mclose()\n",
      "\u001b[1;31mFileNotFoundError\u001b[0m: [Errno 2] No such file or directory: 'disparate_mistreatment/metrics_adult.txt'"
     ]
    }
   ],
   "source": [
    "zafar_results = load_dict_from_file('disparate_mistreatment/metrics_adult.txt')"
   ]
  },
  {
   "cell_type": "code",
   "execution_count": 102,
   "id": "0bb5a609",
   "metadata": {
    "ExecuteTime": {
     "end_time": "2022-03-22T14:08:59.705765Z",
     "start_time": "2022-03-22T14:08:59.695765Z"
    }
   },
   "outputs": [],
   "source": [
    "metrics = zafar_results"
   ]
  },
  {
   "cell_type": "code",
   "execution_count": 103,
   "id": "776e2bbf",
   "metadata": {
    "ExecuteTime": {
     "end_time": "2022-03-22T14:09:00.206250Z",
     "start_time": "2022-03-22T14:09:00.188241Z"
    }
   },
   "outputs": [],
   "source": [
    "metrics['name'] += adaweights_results['name']\n",
    "metrics['name'] += adafair_results['name']\n",
    "metrics['name'] += smote_results['name']\n",
    "\n",
    "metrics['value'] += adaweights_results['value']\n",
    "metrics['value'] += adafair_results['value']\n",
    "metrics['value'] += smote_results['value']\n",
    "\n",
    "metrics['model'] += adaweights_results['model']\n",
    "metrics['model'] += adafair_results['model']\n",
    "metrics['model'] += smote_results['model']"
   ]
  },
  {
   "cell_type": "code",
   "execution_count": 36,
   "id": "37b3c2b5",
   "metadata": {
    "ExecuteTime": {
     "end_time": "2022-03-22T21:36:15.053904Z",
     "start_time": "2022-03-22T21:36:15.041883Z"
    }
   },
   "outputs": [
    {
     "data": {
      "text/plain": [
       "(392, 392, 392)"
      ]
     },
     "execution_count": 36,
     "metadata": {},
     "output_type": "execute_result"
    }
   ],
   "source": [
    "len(metrics['name']), len(metrics['value']), len(metrics['model'])"
   ]
  },
  {
   "cell_type": "code",
   "execution_count": 117,
   "id": "da842d69",
   "metadata": {
    "ExecuteTime": {
     "end_time": "2022-03-22T14:11:44.834775Z",
     "start_time": "2022-03-22T14:11:44.328409Z"
    }
   },
   "outputs": [
    {
     "data": {
      "image/png": "[encoded data removed]",
      "text/plain": [
       "<Figure size 576x432 with 1 Axes>"
      ]
     },
     "metadata": {
      "needs_background": "light"
     },
     "output_type": "display_data"
    }
   ],
   "source": [
    "plt.figure(figsize=(8,6))\n",
    "\n",
    "width = 0.2\n",
    "sns.barplot(x=metrics['name'], y=metrics['value'], hue=metrics['model'], palette=palette, edgecolor='k')\n",
    "plt.grid(axis='y')\n",
    "plt.legend()\n",
    "plt.yticks(np.linspace(0, 1, 21));"
   ]
  },
  {
   "cell_type": "markdown",
   "id": "904e9e06",
   "metadata": {},
   "source": [
    "# Bank"
   ]
  },
  {
   "cell_type": "code",
   "execution_count": 83,
   "id": "2247139e",
   "metadata": {
    "ExecuteTime": {
     "end_time": "2022-03-22T21:53:31.225653Z",
     "start_time": "2022-03-22T21:53:31.206655Z"
    }
   },
   "outputs": [],
   "source": [
    "adafair_results = load_dict_from_file('AdaFair/metrics_bank.txt')"
   ]
  },
  {
   "cell_type": "code",
   "execution_count": 84,
   "id": "0966c879",
   "metadata": {
    "ExecuteTime": {
     "end_time": "2022-03-22T21:53:31.602118Z",
     "start_time": "2022-03-22T21:53:31.586963Z"
    }
   },
   "outputs": [],
   "source": [
    "smote_results = load_dict_from_file('SMOTEBoost/metrics_bank.txt')"
   ]
  },
  {
   "cell_type": "code",
   "execution_count": 85,
   "id": "26e37de0",
   "metadata": {
    "ExecuteTime": {
     "end_time": "2022-03-22T21:53:31.962139Z",
     "start_time": "2022-03-22T21:53:31.947144Z"
    }
   },
   "outputs": [],
   "source": [
    "for i in range(6):\n",
    "    smote_results['model'].append('SMOTEBoost')"
   ]
  },
  {
   "cell_type": "code",
   "execution_count": 86,
   "id": "6f39c94a",
   "metadata": {
    "ExecuteTime": {
     "end_time": "2022-03-22T21:53:32.293418Z",
     "start_time": "2022-03-22T21:53:32.288485Z"
    }
   },
   "outputs": [],
   "source": [
    "adaweights_results = load_dict_from_file('AdaWeights/metrics_bank.txt')"
   ]
  },
  {
   "cell_type": "code",
   "execution_count": 87,
   "id": "e3d1dc7d",
   "metadata": {
    "ExecuteTime": {
     "end_time": "2022-03-22T21:53:32.643208Z",
     "start_time": "2022-03-22T21:53:32.621213Z"
    }
   },
   "outputs": [],
   "source": [
    "zafar_results = load_dict_from_file('disparate_mistreatment/metrics_bank.txt')"
   ]
  },
  {
   "cell_type": "code",
   "execution_count": 88,
   "id": "c4f4e130",
   "metadata": {
    "ExecuteTime": {
     "end_time": "2022-03-22T21:53:33.006211Z",
     "start_time": "2022-03-22T21:53:32.986207Z"
    }
   },
   "outputs": [],
   "source": [
    "metrics = zafar_results"
   ]
  },
  {
   "cell_type": "code",
   "execution_count": 89,
   "id": "a3c9f8c4",
   "metadata": {
    "ExecuteTime": {
     "end_time": "2022-03-22T21:53:33.352109Z",
     "start_time": "2022-03-22T21:53:33.337109Z"
    }
   },
   "outputs": [],
   "source": [
    "metrics['name'] += adaweights_results['name']\n",
    "metrics['name'] += adafair_results['name']\n",
    "metrics['name'] += smote_results['name']\n",
    "\n",
    "metrics['value'] += adaweights_results['value']\n",
    "metrics['value'] += adafair_results['value']\n",
    "metrics['value'] += smote_results['value']\n",
    "\n",
    "metrics['model'] += adaweights_results['model']\n",
    "metrics['model'] += adafair_results['model']\n",
    "metrics['model'] += smote_results['model']"
   ]
  },
  {
   "cell_type": "code",
   "execution_count": 90,
   "id": "e59c9e27",
   "metadata": {
    "ExecuteTime": {
     "end_time": "2022-03-22T21:53:33.725719Z",
     "start_time": "2022-03-22T21:53:33.711657Z"
    }
   },
   "outputs": [
    {
     "data": {
      "text/plain": [
       "(392, 392, 392)"
      ]
     },
     "execution_count": 90,
     "metadata": {},
     "output_type": "execute_result"
    }
   ],
   "source": [
    "len(metrics['name']), len(metrics['value']), len(metrics['model'])"
   ]
  },
  {
   "cell_type": "code",
   "execution_count": 95,
   "id": "ba52b839",
   "metadata": {
    "ExecuteTime": {
     "end_time": "2022-03-22T21:54:27.919908Z",
     "start_time": "2022-03-22T21:54:27.669882Z"
    }
   },
   "outputs": [
    {
     "data": {
      "image/png": "[encoded data removed]",
      "text/plain": [
       "<Figure size 864x576 with 1 Axes>"
      ]
     },
     "metadata": {
      "needs_background": "light"
     },
     "output_type": "display_data"
    }
   ],
   "source": [
    "plt.figure(figsize=(12,8))\n",
    "\n",
    "width = 0.2\n",
    "sns.barplot(x=metrics['name'], y=metrics['value'], hue=metrics['model'], palette=palette, edgecolor='k', ci=None)\n",
    "plt.grid(axis='y')\n",
    "plt.legend()\n",
    "plt.yticks(np.linspace(0, 1, 21));"
   ]
  },
  {
   "cell_type": "markdown",
   "id": "e730096b",
   "metadata": {},
   "source": [
    "# Compass"
   ]
  },
  {
   "cell_type": "code",
   "execution_count": 96,
   "id": "dd43362d",
   "metadata": {
    "ExecuteTime": {
     "end_time": "2022-03-22T21:54:47.750971Z",
     "start_time": "2022-03-22T21:54:47.734944Z"
    }
   },
   "outputs": [],
   "source": [
    "adafair_results = load_dict_from_file('AdaFair/metrics_compass.txt')"
   ]
  },
  {
   "cell_type": "code",
   "execution_count": 97,
   "id": "b068702d",
   "metadata": {
    "ExecuteTime": {
     "end_time": "2022-03-22T21:54:48.127455Z",
     "start_time": "2022-03-22T21:54:48.114457Z"
    }
   },
   "outputs": [],
   "source": [
    "smote_results = load_dict_from_file('SMOTEBoost/metrics_compass.txt')"
   ]
  },
  {
   "cell_type": "code",
   "execution_count": 98,
   "id": "ce5b3cc5",
   "metadata": {
    "ExecuteTime": {
     "end_time": "2022-03-22T21:54:48.486739Z",
     "start_time": "2022-03-22T21:54:48.481766Z"
    }
   },
   "outputs": [],
   "source": [
    "for i in range(6):\n",
    "    smote_results['model'].append('SMOTEBoost')"
   ]
  },
  {
   "cell_type": "code",
   "execution_count": 99,
   "id": "29692c4b",
   "metadata": {
    "ExecuteTime": {
     "end_time": "2022-03-22T21:54:48.880757Z",
     "start_time": "2022-03-22T21:54:48.866755Z"
    }
   },
   "outputs": [],
   "source": [
    "adaweights_results = load_dict_from_file('AdaWeights/metrics_compass.txt')"
   ]
  },
  {
   "cell_type": "code",
   "execution_count": 100,
   "id": "d7a05098",
   "metadata": {
    "ExecuteTime": {
     "end_time": "2022-03-22T21:54:49.256471Z",
     "start_time": "2022-03-22T21:54:49.250472Z"
    }
   },
   "outputs": [],
   "source": [
    "zafar_results = load_dict_from_file('disparate_mistreatment/metrics_compass.txt')"
   ]
  },
  {
   "cell_type": "code",
   "execution_count": 101,
   "id": "a333670e",
   "metadata": {
    "ExecuteTime": {
     "end_time": "2022-03-22T21:54:49.634203Z",
     "start_time": "2022-03-22T21:54:49.620200Z"
    }
   },
   "outputs": [],
   "source": [
    "metrics = zafar_results"
   ]
  },
  {
   "cell_type": "code",
   "execution_count": 102,
   "id": "0915f82b",
   "metadata": {
    "ExecuteTime": {
     "end_time": "2022-03-22T21:54:50.015627Z",
     "start_time": "2022-03-22T21:54:49.998616Z"
    }
   },
   "outputs": [],
   "source": [
    "metrics['name'] += adaweights_results['name']\n",
    "metrics['name'] += adafair_results['name']\n",
    "metrics['name'] += smote_results['name']\n",
    "\n",
    "metrics['value'] += adaweights_results['value']\n",
    "metrics['value'] += adafair_results['value']\n",
    "metrics['value'] += smote_results['value']\n",
    "\n",
    "metrics['model'] += adaweights_results['model']\n",
    "metrics['model'] += adafair_results['model']\n",
    "metrics['model'] += smote_results['model']"
   ]
  },
  {
   "cell_type": "code",
   "execution_count": 103,
   "id": "35a9b528",
   "metadata": {
    "ExecuteTime": {
     "end_time": "2022-03-22T21:54:51.296584Z",
     "start_time": "2022-03-22T21:54:51.286583Z"
    }
   },
   "outputs": [
    {
     "data": {
      "text/plain": [
       "(392, 392, 392)"
      ]
     },
     "execution_count": 103,
     "metadata": {},
     "output_type": "execute_result"
    }
   ],
   "source": [
    "len(metrics['name']), len(metrics['value']), len(metrics['model'])"
   ]
  },
  {
   "cell_type": "code",
   "execution_count": 104,
   "id": "df5ed6cd",
   "metadata": {
    "ExecuteTime": {
     "end_time": "2022-03-22T21:54:55.473906Z",
     "start_time": "2022-03-22T21:54:55.243871Z"
    }
   },
   "outputs": [
    {
     "data": {
      "image/png": "[encoded data removed]",
      "text/plain": [
       "<Figure size 864x576 with 1 Axes>"
      ]
     },
     "metadata": {
      "needs_background": "light"
     },
     "output_type": "display_data"
    }
   ],
   "source": [
    "plt.figure(figsize=(12,8))\n",
    "\n",
    "width = 0.2\n",
    "sns.barplot(x=metrics['name'], y=metrics['value'], hue=metrics['model'], palette=palette, ci=None, edgecolor='k')\n",
    "plt.grid(axis='y')\n",
    "plt.legend()\n",
    "plt.yticks(np.linspace(0, 1, 21));"
   ]
  },
  {
   "cell_type": "code",
   "execution_count": null,
   "id": "ec450590",
   "metadata": {},
   "outputs": [],
   "source": []
  }
 ],
 "metadata": {
  "kernelspec": {
   "display_name": "Python 3 (ipykernel)",
   "language": "python",
   "name": "python3"
  },
  "language_info": {
   "codemirror_mode": {
    "name": "ipython",
    "version": 3
   },
   "file_extension": ".py",
   "mimetype": "text/x-python",
   "name": "python",
   "nbconvert_exporter": "python",
   "pygments_lexer": "ipython3",
   "version": "3.9.7"
  },
  "toc": {
   "base_numbering": 1,
   "nav_menu": {},
   "number_sections": true,
   "sideBar": true,
   "skip_h1_title": false,
   "title_cell": "Table of Contents",
   "title_sidebar": "Contents",
   "toc_cell": false,
   "toc_position": {},
   "toc_section_display": true,
   "toc_window_display": false
  },
  "varInspector": {
   "cols": {
    "lenName": 16,
    "lenType": 16,
    "lenVar": 40
   },
   "kernels_config": {
    "python": {
     "delete_cmd_postfix": "",
     "delete_cmd_prefix": "del ",
     "library": "var_list.py",
     "varRefreshCmd": "print(var_dic_list())"
    },
    "r": {
     "delete_cmd_postfix": ") ",
     "delete_cmd_prefix": "rm(",
     "library": "var_list.r",
     "varRefreshCmd": "cat(var_dic_list()) "
    }
   },
   "types_to_exclude": [
    "module",
    "function",
    "builtin_function_or_method",
    "instance",
    "_Feature"
   ],
   "window_display": false
  }
 },
 "nbformat": 4,
 "nbformat_minor": 5
}
