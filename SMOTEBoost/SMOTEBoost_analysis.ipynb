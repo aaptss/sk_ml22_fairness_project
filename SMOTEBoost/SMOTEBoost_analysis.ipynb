{
 "cells": [
  {
   "cell_type": "markdown",
   "id": "bde93867-8562-418b-99be-fab4c5cfe29f",
   "metadata": {},
   "source": [
    "## Comparison\n",
    "Providing results for comparison with other fair classification approaches."
   ]
  },
  {
   "cell_type": "code",
   "execution_count": 10,
   "id": "28d48d75-bda8-4c23-aeb7-4559053aaecd",
   "metadata": {},
   "outputs": [],
   "source": [
    "import os, sys\n",
    "import numpy as np\n",
    "sys.path.append('../')  # the code for fair classification is in this directory\n",
    "\n",
    "import time\n",
    "import pandas as pd\n",
    "import matplotlib.pyplot as plt\n",
    "from itertools import product\n",
    "from SMOTEBoost import SMOTEBoost \n",
    "from loaders.load_adult import load_adult\n",
    "from loaders.load_bank import load_bank\n",
    "from loaders.load_compas_data import load_compas\n",
    "from loaders.load_kdd import load_kdd\n",
    "from sklearn.model_selection import train_test_split\n",
    "from sklearn.metrics import balanced_accuracy_score"
   ]
  },
  {
   "cell_type": "code",
   "execution_count": 70,
   "id": "380da94e-41f6-4d68-a29e-39631b3497de",
   "metadata": {},
   "outputs": [],
   "source": [
    "def display_metrics(metrics, metrics_filename='metrics.txt'):\n",
    "    print(f'Accuracy: {np.mean(metrics[\"test_scores\"][\"test_accuracy\"])} \\\n",
    "    std:{np.std(metrics[\"test_scores\"][\"test_accuracy\"])}')\n",
    "    print(f'Balanced_accuracy: {np.mean(metrics[\"test_scores\"][\"Balanced accuracy\"])}')\n",
    "    print(f'Eq.Odds: {np.mean(metrics[\"test_scores\"][\"Eq.Odds\"])}')\n",
    "    print(f'TPR Prot.: {np.mean(metrics[\"test_scores\"][\"TPR prot\"])} ')\n",
    "    print(f'TPR Non-Prot.: {np.mean(metrics[\"test_scores\"][\"TPR non-prot\"])}')\n",
    "    print(f'TNR Prot.: {np.mean(metrics[\"test_scores\"][\"TNR prot\"])}')\n",
    "    print(f'TNR Non-Prot.: {np.mean(metrics[\"test_scores\"][\"TNR non-prot\"])}')\n",
    "    \n",
    "    metrics_out = open(metrics_filename, 'a')\n",
    "    metrics_out.write(f'Model: SMOTEBoost')\n",
    "    metrics_out.write(f'Accuracy: {np.mean(metrics[\"test_scores\"][\"test_accuracy\"])} \\\n",
    "    std:{np.std(metrics[\"test_scores\"][\"test_accuracy\"])}')\n",
    "    metrics_out.write(f'Balanced_accuracy: {np.mean(metrics[\"test_scores\"][\"Balanced accuracy\"])}')\n",
    "    metrics_out.write(f'Eq.Odds: {np.mean(metrics[\"test_scores\"][\"Eq.Odds\"])}')\n",
    "    metrics_out.write(f'TPR Prot.: {np.mean(metrics[\"test_scores\"][\"TPR prot\"])} ')\n",
    "    metrics_out.write(f'TPR Non-Prot.: {np.mean(metrics[\"test_scores\"][\"TPR non-prot\"])}')\n",
    "    metrics_out.write(f'TNR Prot.: {np.mean(metrics[\"test_scores\"][\"TNR prot\"])}')\n",
    "    metrics_out.write(f'TNR Non-Prot.: {np.mean(metrics[\"test_scores\"][\"TNR non-prot\"])}')\n",
    "    metrics_out.close()"
   ]
  },
  {
   "cell_type": "code",
   "execution_count": 57,
   "id": "a49c4a73-17a1-4b17-9b44-74f77f96979c",
   "metadata": {},
   "outputs": [],
   "source": [
    "def GridSearch(X_val, y_val, n_estimators=np.arange(10, 100, 5), n_samples=(100, 200), lr=(0.1, 0.5, 1)):\n",
    "    opt_n_estimators, opt_n_samples, opt_lr = 0, 0, 0\n",
    "    params = list(product(n_estimators, n_samples, lr))\n",
    "    min_balanced_accuracy = 0\n",
    "    for (n_estimators_it, n_samples_it, lr_it) in params:\n",
    "        smote_boost = SMOTEBoost(n_estimators=n_estimators_it, n_samples=n_samples_it, learning_rate=lr_it,\n",
    "                                storePerfomance=False, X_test=X_val, y_test=y_val)\n",
    "        smote_boost.fit(X_val, y_val)\n",
    "        balanced_accuracy = balanced_accuracy_score(y_val, smote_boost.predict(X_val))\n",
    "        if balanced_accuracy > min_balanced_accuracy:\n",
    "            min_balanced_accuracy = balanced_accuracy\n",
    "            opt_n_estimators, opt_n_samples, opt_lr = n_estimators_it, n_samples_it, lr_it\n",
    "    \n",
    "    print('GridSearch result:')\n",
    "    print(f'Optimal number of estimators: {opt_n_estimators}')\n",
    "    print(f'Optimal number of samples: {opt_n_samples}')\n",
    "    print(f'Optimal learning rate: {opt_lr}')\n",
    "    return opt_n_estimators, opt_n_samples, opt_lr"
   ]
  },
  {
   "cell_type": "code",
   "execution_count": 51,
   "id": "67bb4740-89a2-4d5c-ad13-54ad2ee8d4f1",
   "metadata": {},
   "outputs": [],
   "source": [
    "def eval_model(loader, sensativeAttribute='', grid_search=False, n_estimators=50, n_samples=100, lr=1):\n",
    "    if sensativeAttribute == '':\n",
    "        X, y, sa_index, p_Group, x_control = loader()\n",
    "    else:\n",
    "        X, y, sa_index, p_Group, x_control = loader(sensativeAttribute)\n",
    "        \n",
    "    X_train, X_test, y_train, y_test = train_test_split(X, y, test_size=0.5)\n",
    "    opt_n_estimators, opt_n_samples, opt_lr = n_estimators, n_samples, lr\n",
    "    if grid_search:\n",
    "        X_test, X_val, y_test, y_val = train_test_split(X_test_val, y_test_val, test_size=0.7)\n",
    "        opt_n_estimators, opt_n_samples, opt_lr = GridSearch(X_val, y_val)\n",
    "    smote_boost = SMOTEBoost(n_estimators=opt_n_estimators, n_samples=opt_n_samples, \n",
    "                                        storePerfomance=True, saIndex=sa_index, learning_rate=opt_lr, \n",
    "                                        saValue=p_Group, X_test=X_test, y_test=y_test)\n",
    "    smote_boost.fit(X_train, y_train)\n",
    "    display_metrics(smote_boost.get_performance_over_iterations()[-1]) "
   ]
  },
  {
   "cell_type": "code",
   "execution_count": 53,
   "id": "46cbeb42-b2f5-4d3b-8260-7669868f1a48",
   "metadata": {},
   "outputs": [
    {
     "name": "stdout",
     "output_type": "stream",
     "text": [
      "Accuracy: 0.884761544227886     std:0.00023929263015588057\n",
      "Balanced_accuracy: 0.7497830863890187\n",
      "Eq.Odds: 0.10987743763672964\n",
      "TPR Prot.: 0.5255847953216374 \n",
      "TPR Non-Prot.: 0.6072572038420491\n",
      "TNR Prot.: 0.9493506493506494\n",
      "TNR Non-Prot.: 0.9211456202343314\n"
     ]
    }
   ],
   "source": [
    "eval_model(load_bank, dataset_name='bank', n_estimators=200)"
   ]
  },
  {
   "cell_type": "code",
   "execution_count": 54,
   "id": "a1211884-75e7-425d-becd-ecb7d2d1f130",
   "metadata": {},
   "outputs": [
    {
     "name": "stdout",
     "output_type": "stream",
     "text": [
      "Counter({'Male': 4247, 'Female': 1031})\n",
      "Features we will be using for classification are: ['age_cat_25 - 45', 'age_cat_Greater than 45', 'age_cat_Less than 25', 'race', 'sex', 'priors_count', 'c_charge_degree', 'target'] \n",
      "\n",
      "Accuracy: 0.6547845373891     std:0.02238936033005612\n",
      "Balanced_accuracy: 0.6715311556948075\n",
      "Eq.Odds: 0.5720339555082817\n",
      "TPR Prot.: 0.4717948717948718 \n",
      "TPR Non-Prot.: 0.770048309178744\n",
      "TNR Prot.: 0.8284023668639053\n",
      "TNR Non-Prot.: 0.5546218487394958\n"
     ]
    }
   ],
   "source": [
    "eval_model(load_compas, sensativeAttribute=\"sex\", n_estimators=200, n_samples=2)"
   ]
  },
  {
   "cell_type": "code",
   "execution_count": 55,
   "id": "0356f8ab-7fd7-4996-a186-1b3793350343",
   "metadata": {},
   "outputs": [
    {
     "name": "stdout",
     "output_type": "stream",
     "text": [
      "Accuracy: 0.7489817523528561     std:4.446342177790719e-05\n",
      "Balanced_accuracy: 0.8186313253283344\n",
      "Eq.Odds: 0.4948184052755933\n",
      "TPR Prot.: 0.6076555023923444 \n",
      "TPR Non-Prot.: 0.8611915597848573\n",
      "TNR Prot.: 0.9621188789651987\n",
      "TNR Non-Prot.: 0.7208365310821182\n"
     ]
    }
   ],
   "source": [
    "eval_model(load_adult, sensativeAttribute=\"sex\", n_estimators=200)"
   ]
  },
  {
   "cell_type": "code",
   "execution_count": 56,
   "id": "b265db45-8744-4bf3-8cee-e562e34f5602",
   "metadata": {},
   "outputs": [
    {
     "name": "stdout",
     "output_type": "stream",
     "text": [
      "Accuracy: 0.9435991120866267     std:0.0011518067300757774\n",
      "Balanced_accuracy: 0.694814123653508\n",
      "Eq.Odds: 0.27619926752427404\n",
      "TPR Prot.: 0.20573183213920163 \n",
      "TPR Non-Prot.: 0.4586220953933958\n",
      "TNR Prot.: 0.99474113223423\n",
      "TNR Non-Prot.: 0.9714321279641501\n"
     ]
    }
   ],
   "source": [
    "eval_model(load_kdd, sensativeAttribute='', n_estimators=50, n_samples=500)"
   ]
  },
  {
   "cell_type": "markdown",
   "id": "f7d30c4e-28af-458c-8094-f138675aee1c",
   "metadata": {},
   "source": [
    "## Verifaction of the algorithm\n",
    "In this part of the notebook we verify SMOTEBoost algorithm by comparing aquired results with graphs presented in the article on two datasets satimage and phomene: SMOTEBoost: Nitesh V Chawla, Aleksandar Lazarevic, Lawrence O Hall, and Kevin W Bowyer. 2003. SMOTEBoost: Improving prediction of the minority class in boosting. In ECML PKDD. Springer, 107–119"
   ]
  },
  {
   "cell_type": "code",
   "execution_count": 4,
   "id": "13fa62bc-b907-4f6b-8ed5-b1c80dcde62a",
   "metadata": {},
   "outputs": [],
   "source": [
    "def load_phomene_dataset():\n",
    "    dataset_path = '../data/phomene.csv'\n",
    "    phomene_ds = pd.read_csv(dataset_path)\n",
    "    X = phomene_ds.iloc[:, :-1]\n",
    "    y = phomene_ds.iloc[:, -1]\n",
    "    X_train, X_test, y_train, y_test = train_test_split(X, y, test_size=0.2)\n",
    "    return X_train, X_test, y_train, y_test "
   ]
  },
  {
   "cell_type": "code",
   "execution_count": 8,
   "id": "e5319002-c055-4063-b9c1-f3414a287277",
   "metadata": {},
   "outputs": [],
   "source": [
    "X_train, X_test, y_train, y_test = load_phomene_dataset()\n",
    "smote_boost = SMOTEBoost(n_estimators=20, n_samples=200, storePerfomance=True, \n",
    "                         X_test=X_test.to_numpy(), y_test=y_test.to_numpy(), ignoreSensitiveFeature=True)\n",
    "smote_boost.fit(X_train.to_numpy(), y_train.to_numpy())\n",
    "performances = smote_boost.get_performance_over_iterations()\n",
    "f1_score = [np.mean(performances[i]['test_scores']['f1_score']) for i in range(len(performances))]\n",
    "recall = [np.mean(performances[i]['test_scores']['test_recall']) for i in range(len(performances))]\n",
    "precision = [np.mean(performances[i]['test_scores']['test_precision']) for i in range(len(performances))]"
   ]
  },
  {
   "cell_type": "code",
   "execution_count": 18,
   "id": "e33804d5-ce8b-4e3b-a741-066e6dff03fa",
   "metadata": {},
   "outputs": [
    {
     "data": {
      "text/plain": [
       "<matplotlib.legend.Legend at 0x26a6ecc3d00>"
      ]
     },
     "execution_count": 18,
     "metadata": {},
     "output_type": "execute_result"
    },
    {
     "data": {
      "image/png": "[encoded data removed]",
      "text/plain": [
       "<Figure size 864x576 with 1 Axes>"
      ]
     },
     "metadata": {
      "needs_background": "light"
     },
     "output_type": "display_data"
    }
   ],
   "source": [
    "fig, ax = plt.subplots(figsize=(12, 8))\n",
    "ax.set_title('Phomene dataset results')\n",
    "ax.plot(f1_score, label='f1_score')\n",
    "ax.plot(recall, label='recall')\n",
    "ax.plot(precision, label='precision')\n",
    "ax.grid()\n",
    "ax.legend()"
   ]
  },
  {
   "cell_type": "code",
   "execution_count": 23,
   "id": "4b92b20d-013c-497d-8fec-248b75e985bd",
   "metadata": {},
   "outputs": [],
   "source": [
    "def load_satimage_dataset():\n",
    "    dataset_path = '../data/satimage.csv'\n",
    "    satimage_ds = pd.read_csv(dataset_path)\n",
    "    satimage_ds['label'].replace(to_replace=[1, 2, 3, 5, 7], value=0, inplace=True)\n",
    "    satimage_ds['label'].replace(to_replace=[4], value=1, inplace=True)\n",
    "    X = satimage_ds.iloc[:, :-1]\n",
    "    y = satimage_ds.iloc[:, -1]\n",
    "    X_train, X_test, y_train, y_test = train_test_split(X, y, test_size=0.2)\n",
    "    return X_train, X_test, y_train, y_test "
   ]
  },
  {
   "cell_type": "code",
   "execution_count": null,
   "id": "34e399f5-69cb-4c27-a802-8b41f4e68f49",
   "metadata": {},
   "outputs": [],
   "source": [
    "X_train, X_test, y_train, y_test = load_satimage_dataset()\n",
    "smote_boost = SMOTEBoost(n_estimators=20, n_samples=200, storePerfomance=True, \n",
    "                         X_test=X_test.to_numpy(), y_test=y_test.to_numpy(), ignoreSensitiveFeature=True)\n",
    "smote_boost.fit(X_train.to_numpy(), y_train.to_numpy())\n",
    "performances = smote_boost.get_performance_over_iterations()\n",
    "# accuracy = [np.mean(performances[i]['test_scores']['test_accuracy']) for i in range(len(performances))]"
   ]
  }
 ],
 "metadata": {
  "kernelspec": {
   "display_name": "Python 3",
   "language": "python",
   "name": "python3"
  },
  "language_info": {
   "codemirror_mode": {
    "name": "ipython",
    "version": 3
   },
   "file_extension": ".py",
   "mimetype": "text/x-python",
   "name": "python",
   "nbconvert_exporter": "python",
   "pygments_lexer": "ipython3",
   "version": "3.8.0"
  }
 },
 "nbformat": 4,
 "nbformat_minor": 5
}
